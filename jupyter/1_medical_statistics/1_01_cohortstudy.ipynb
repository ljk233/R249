{
 "cells": [
  {
   "cell_type": "markdown",
   "id": "6028e803",
   "metadata": {},
   "source": [
    "# Pre-eclampsia and Eclampsia and Hypertension in Later Life\n",
    "\n",
    "**Date:** 2021-11-28\n",
    "\n",
    "**Reference:** M249, Book 1, Part 1"
   ]
  },
  {
   "cell_type": "code",
   "execution_count": 1,
   "id": "e0b78ccf",
   "metadata": {},
   "outputs": [],
   "source": [
    "suppressPackageStartupMessages(library(tidyverse))\n",
    "library(R249)"
   ]
  },
  {
   "cell_type": "markdown",
   "id": "de04b3cf",
   "metadata": {},
   "source": [
    "## Summary\n",
    "\n",
    "The aim of this notebook was to show how to analyse a cohort study.\n",
    "Data on a study researching the possible association between hypertension in a woman's first pregnancy with them developing hypertension in later life was taken from a peer-reviewed source.\n",
    "Measures of association were calculated and a chi-squared test of no association was performed.\n",
    "It was concluded that the study provided strong evidence of a positive association between hypertension in a woman's first pregnancy with them developing hypertension in later life."
   ]
  },
  {
   "cell_type": "markdown",
   "id": "0e2cdcb3",
   "metadata": {},
   "source": [
    "## Get the data\n",
    "\n",
    "Researchers followed **542** women who suffered from pre-eclampsia or eclampsia during their first pregnancy and **277** women who did not over a period of time, and counted those who developed hypertension in later life and those who did not.\n",
    "The issue of interest was whether there was evidence of an association between hyptertension in a woman's first pregnancy, and hypertension in later life.\n",
    "\n",
    "Results from the cohort study are saved in the `data` folder."
   ]
  },
  {
   "cell_type": "code",
   "execution_count": 2,
   "id": "d7c01c9b",
   "metadata": {},
   "outputs": [
    {
     "data": {
      "text/html": [
       "<table class=\"dataframe\">\n",
       "<caption>A tibble: 4 × 3</caption>\n",
       "<thead>\n",
       "\t<tr><th scope=col>count</th><th scope=col>exposure</th><th scope=col>outcome</th></tr>\n",
       "\t<tr><th scope=col>&lt;int&gt;</th><th scope=col>&lt;chr&gt;</th><th scope=col>&lt;chr&gt;</th></tr>\n",
       "</thead>\n",
       "<tbody>\n",
       "\t<tr><td>327</td><td>pre-eclampsia   </td><td>hypertension   </td></tr>\n",
       "\t<tr><td>215</td><td>pre-eclampsia   </td><td>no hypertension</td></tr>\n",
       "\t<tr><td> 76</td><td>no pre-eclampsia</td><td>hypertension   </td></tr>\n",
       "\t<tr><td>201</td><td>no pre-eclampsia</td><td>no hypertension</td></tr>\n",
       "</tbody>\n",
       "</table>\n"
      ],
      "text/latex": [
       "A tibble: 4 × 3\n",
       "\\begin{tabular}{lll}\n",
       " count & exposure & outcome\\\\\n",
       " <int> & <chr> & <chr>\\\\\n",
       "\\hline\n",
       "\t 327 & pre-eclampsia    & hypertension   \\\\\n",
       "\t 215 & pre-eclampsia    & no hypertension\\\\\n",
       "\t  76 & no pre-eclampsia & hypertension   \\\\\n",
       "\t 201 & no pre-eclampsia & no hypertension\\\\\n",
       "\\end{tabular}\n"
      ],
      "text/markdown": [
       "\n",
       "A tibble: 4 × 3\n",
       "\n",
       "| count &lt;int&gt; | exposure &lt;chr&gt; | outcome &lt;chr&gt; |\n",
       "|---|---|---|\n",
       "| 327 | pre-eclampsia    | hypertension    |\n",
       "| 215 | pre-eclampsia    | no hypertension |\n",
       "|  76 | no pre-eclampsia | hypertension    |\n",
       "| 201 | no pre-eclampsia | no hypertension |\n",
       "\n"
      ],
      "text/plain": [
       "  count exposure         outcome        \n",
       "1 327   pre-eclampsia    hypertension   \n",
       "2 215   pre-eclampsia    no hypertension\n",
       "3  76   no pre-eclampsia hypertension   \n",
       "4 201   no pre-eclampsia no hypertension"
      ]
     },
     "metadata": {},
     "output_type": "display_data"
    }
   ],
   "source": [
    "(res <- as_tibble(read.csv(file = \"..\\\\..\\\\data\\\\preeclampsia.csv\")))"
   ]
  },
  {
   "cell_type": "markdown",
   "id": "c65f4d89",
   "metadata": {},
   "source": [
    "## Display the data\n",
    "\n",
    "Cast the `exposure`, `outcome` columns to factors.\n",
    "This will allow for better sorting of the `tibble`."
   ]
  },
  {
   "cell_type": "code",
   "execution_count": 3,
   "id": "be7d8992-f9d5-4cf7-b2bc-22aa7caf7ab8",
   "metadata": {},
   "outputs": [
    {
     "data": {
      "text/html": [
       "<table class=\"dataframe\">\n",
       "<caption>A tibble: 4 × 3</caption>\n",
       "<thead>\n",
       "\t<tr><th scope=col>count</th><th scope=col>exposure</th><th scope=col>outcome</th></tr>\n",
       "\t<tr><th scope=col>&lt;int&gt;</th><th scope=col>&lt;fct&gt;</th><th scope=col>&lt;fct&gt;</th></tr>\n",
       "</thead>\n",
       "<tbody>\n",
       "\t<tr><td>201</td><td>no pre-eclampsia</td><td>no hypertension</td></tr>\n",
       "\t<tr><td> 76</td><td>no pre-eclampsia</td><td>hypertension   </td></tr>\n",
       "\t<tr><td>215</td><td>pre-eclampsia   </td><td>no hypertension</td></tr>\n",
       "\t<tr><td>327</td><td>pre-eclampsia   </td><td>hypertension   </td></tr>\n",
       "</tbody>\n",
       "</table>\n"
      ],
      "text/latex": [
       "A tibble: 4 × 3\n",
       "\\begin{tabular}{lll}\n",
       " count & exposure & outcome\\\\\n",
       " <int> & <fct> & <fct>\\\\\n",
       "\\hline\n",
       "\t 201 & no pre-eclampsia & no hypertension\\\\\n",
       "\t  76 & no pre-eclampsia & hypertension   \\\\\n",
       "\t 215 & pre-eclampsia    & no hypertension\\\\\n",
       "\t 327 & pre-eclampsia    & hypertension   \\\\\n",
       "\\end{tabular}\n"
      ],
      "text/markdown": [
       "\n",
       "A tibble: 4 × 3\n",
       "\n",
       "| count &lt;int&gt; | exposure &lt;fct&gt; | outcome &lt;fct&gt; |\n",
       "|---|---|---|\n",
       "| 201 | no pre-eclampsia | no hypertension |\n",
       "|  76 | no pre-eclampsia | hypertension    |\n",
       "| 215 | pre-eclampsia    | no hypertension |\n",
       "| 327 | pre-eclampsia    | hypertension    |\n",
       "\n"
      ],
      "text/plain": [
       "  count exposure         outcome        \n",
       "1 201   no pre-eclampsia no hypertension\n",
       "2  76   no pre-eclampsia hypertension   \n",
       "3 215   pre-eclampsia    no hypertension\n",
       "4 327   pre-eclampsia    hypertension   "
      ]
     },
     "metadata": {},
     "output_type": "display_data"
    }
   ],
   "source": [
    "labexp <- c(\"no pre-eclampsia\", \"pre-eclampsia\")\n",
    "labout <- c(\"no hypertension\", \"hypertension\")\n",
    "(sortedres <- res %>%\n",
    "    mutate(exposure = factor(res$exposure, labexp)) %>%\n",
    "    mutate(outcome = factor(res$outcome, labout)) %>%\n",
    "    arrange(exposure, outcome))"
   ]
  },
  {
   "cell_type": "markdown",
   "id": "d3671061-2324-4c29-bc0d-55af002479bf",
   "metadata": {},
   "source": [
    "Pull the `count` column as a vector and use it to initialise a matrix."
   ]
  },
  {
   "cell_type": "code",
   "execution_count": 4,
   "id": "b33a64db-5167-493b-9fae-032089601309",
   "metadata": {},
   "outputs": [
    {
     "data": {
      "text/html": [
       "<table class=\"dataframe\">\n",
       "<caption>A matrix: 2 × 2 of type int</caption>\n",
       "<thead>\n",
       "\t<tr><th></th><th scope=col>no hypertension</th><th scope=col>hypertension</th></tr>\n",
       "</thead>\n",
       "<tbody>\n",
       "\t<tr><th scope=row>no pre-eclampsia</th><td>201</td><td> 76</td></tr>\n",
       "\t<tr><th scope=row>pre-eclampsia</th><td>215</td><td>327</td></tr>\n",
       "</tbody>\n",
       "</table>\n"
      ],
      "text/latex": [
       "A matrix: 2 × 2 of type int\n",
       "\\begin{tabular}{r|ll}\n",
       "  & no hypertension & hypertension\\\\\n",
       "\\hline\n",
       "\tno pre-eclampsia & 201 &  76\\\\\n",
       "\tpre-eclampsia & 215 & 327\\\\\n",
       "\\end{tabular}\n"
      ],
      "text/markdown": [
       "\n",
       "A matrix: 2 × 2 of type int\n",
       "\n",
       "| <!--/--> | no hypertension | hypertension |\n",
       "|---|---|---|\n",
       "| no pre-eclampsia | 201 |  76 |\n",
       "| pre-eclampsia | 215 | 327 |\n",
       "\n"
      ],
      "text/plain": [
       "                 no hypertension hypertension\n",
       "no pre-eclampsia 201              76         \n",
       "pre-eclampsia    215             327         "
      ]
     },
     "metadata": {},
     "output_type": "display_data"
    }
   ],
   "source": [
    "(resmat <- sortedres %>%\n",
    "    pull(count) %>%\n",
    "    matrix(nrow = 2, ncol = 2, byrow = TRUE, dimnames = list(labexp, labout)))"
   ]
  },
  {
   "cell_type": "markdown",
   "id": "3b2ccdfa",
   "metadata": {},
   "source": [
    "## Measures of assocation\n",
    "\n",
    "Calculate the **odds ratio** and **relative risk**.\n",
    "The relative risk can be calculated using the `riskratio` function in `R249`."
   ]
  },
  {
   "cell_type": "code",
   "execution_count": 5,
   "id": "b84540ee-b852-46f5-9ab0-5a674de84552",
   "metadata": {},
   "outputs": [
    {
     "data": {
      "text/html": [
       "<table class=\"dataframe\">\n",
       "<caption>A matrix: 2 × 4 of type dbl</caption>\n",
       "<thead>\n",
       "\t<tr><th></th><th scope=col>oddsratio</th><th scope=col>stderr</th><th scope=col>lcb</th><th scope=col>ucb</th></tr>\n",
       "</thead>\n",
       "<tbody>\n",
       "\t<tr><th scope=row>no pre-eclampsia</th><td>     NA</td><td>       NA</td><td>      NA</td><td>      NA</td></tr>\n",
       "\t<tr><th scope=row>pre-eclampsia</th><td>4.02246</td><td>0.1607554</td><td>2.935327</td><td>5.512225</td></tr>\n",
       "</tbody>\n",
       "</table>\n"
      ],
      "text/latex": [
       "A matrix: 2 × 4 of type dbl\n",
       "\\begin{tabular}{r|llll}\n",
       "  & oddsratio & stderr & lcb & ucb\\\\\n",
       "\\hline\n",
       "\tno pre-eclampsia &      NA &        NA &       NA &       NA\\\\\n",
       "\tpre-eclampsia & 4.02246 & 0.1607554 & 2.935327 & 5.512225\\\\\n",
       "\\end{tabular}\n"
      ],
      "text/markdown": [
       "\n",
       "A matrix: 2 × 4 of type dbl\n",
       "\n",
       "| <!--/--> | oddsratio | stderr | lcb | ucb |\n",
       "|---|---|---|---|---|\n",
       "| no pre-eclampsia |      NA |        NA |       NA |       NA |\n",
       "| pre-eclampsia | 4.02246 | 0.1607554 | 2.935327 | 5.512225 |\n",
       "\n"
      ],
      "text/plain": [
       "                 oddsratio stderr    lcb      ucb     \n",
       "no pre-eclampsia      NA          NA       NA       NA\n",
       "pre-eclampsia    4.02246   0.1607554 2.935327 5.512225"
      ]
     },
     "metadata": {},
     "output_type": "display_data"
    },
    {
     "data": {
      "text/html": [
       "<table class=\"dataframe\">\n",
       "<caption>A matrix: 2 × 4 of type dbl</caption>\n",
       "<thead>\n",
       "\t<tr><th></th><th scope=col>oddsratio</th><th scope=col>stderr</th><th scope=col>lcb</th><th scope=col>ucb</th></tr>\n",
       "</thead>\n",
       "<tbody>\n",
       "\t<tr><th scope=row>no pre-eclampsia</th><td>      NA</td><td>       NA</td><td>      NA</td><td>     NA</td></tr>\n",
       "\t<tr><th scope=row>pre-eclampsia</th><td>2.198946</td><td>0.1037346</td><td>1.794385</td><td>2.69472</td></tr>\n",
       "</tbody>\n",
       "</table>\n"
      ],
      "text/latex": [
       "A matrix: 2 × 4 of type dbl\n",
       "\\begin{tabular}{r|llll}\n",
       "  & oddsratio & stderr & lcb & ucb\\\\\n",
       "\\hline\n",
       "\tno pre-eclampsia &       NA &        NA &       NA &      NA\\\\\n",
       "\tpre-eclampsia & 2.198946 & 0.1037346 & 1.794385 & 2.69472\\\\\n",
       "\\end{tabular}\n"
      ],
      "text/markdown": [
       "\n",
       "A matrix: 2 × 4 of type dbl\n",
       "\n",
       "| <!--/--> | oddsratio | stderr | lcb | ucb |\n",
       "|---|---|---|---|---|\n",
       "| no pre-eclampsia |       NA |        NA |       NA |      NA |\n",
       "| pre-eclampsia | 2.198946 | 0.1037346 | 1.794385 | 2.69472 |\n",
       "\n"
      ],
      "text/plain": [
       "                 oddsratio stderr    lcb      ucb    \n",
       "no pre-eclampsia       NA         NA       NA      NA\n",
       "pre-eclampsia    2.198946  0.1037346 1.794385 2.69472"
      ]
     },
     "metadata": {},
     "output_type": "display_data"
    }
   ],
   "source": [
    "oddsratio(resmat); riskratio(resmat)"
   ]
  },
  {
   "cell_type": "markdown",
   "id": "0f422be5-7e22-43e2-bbdb-1ae122afd999",
   "metadata": {},
   "source": [
    "The odds ratio is **4.02**, with 95% confidence interval **(2.94, 5.51)**;\n",
    "the relative risk is **2.20**, with 95% confidence interval **(2.94, 5.51)**.\n",
    "Both measures are greater than 1 with interval estimates that are strictly greater than **1**.\n",
    "This suggests there is a positive assosication between hyptertension in the first pregnancy and developing hypertension in later life."
   ]
  },
  {
   "cell_type": "markdown",
   "id": "b4be5ee7",
   "metadata": {},
   "source": [
    "## Strength of evidence of association\n",
    "\n",
    "Perform a chi-squared test of no association."
   ]
  },
  {
   "cell_type": "code",
   "execution_count": 6,
   "id": "92b61c31-4991-41b6-8dcd-05dea2a68036",
   "metadata": {},
   "outputs": [],
   "source": [
    "chi2 <- chisq.test(resmat, correct = FALSE)"
   ]
  },
  {
   "cell_type": "markdown",
   "id": "67832f17-8d99-4846-9585-82b145d4487c",
   "metadata": {},
   "source": [
    "Expected frequencies under a null hypothesis of no association."
   ]
  },
  {
   "cell_type": "code",
   "execution_count": 7,
   "id": "24bb6b6c-53ef-4a29-96df-9781f4c6cf15",
   "metadata": {},
   "outputs": [
    {
     "data": {
      "text/html": [
       "<table class=\"dataframe\">\n",
       "<caption>A matrix: 2 × 2 of type dbl</caption>\n",
       "<thead>\n",
       "\t<tr><th></th><th scope=col>no hypertension</th><th scope=col>hypertension</th></tr>\n",
       "</thead>\n",
       "<tbody>\n",
       "\t<tr><th scope=row>no pre-eclampsia</th><td>140.6984</td><td>136.3016</td></tr>\n",
       "\t<tr><th scope=row>pre-eclampsia</th><td>275.3016</td><td>266.6984</td></tr>\n",
       "</tbody>\n",
       "</table>\n"
      ],
      "text/latex": [
       "A matrix: 2 × 2 of type dbl\n",
       "\\begin{tabular}{r|ll}\n",
       "  & no hypertension & hypertension\\\\\n",
       "\\hline\n",
       "\tno pre-eclampsia & 140.6984 & 136.3016\\\\\n",
       "\tpre-eclampsia & 275.3016 & 266.6984\\\\\n",
       "\\end{tabular}\n"
      ],
      "text/markdown": [
       "\n",
       "A matrix: 2 × 2 of type dbl\n",
       "\n",
       "| <!--/--> | no hypertension | hypertension |\n",
       "|---|---|---|\n",
       "| no pre-eclampsia | 140.6984 | 136.3016 |\n",
       "| pre-eclampsia | 275.3016 | 266.6984 |\n",
       "\n"
      ],
      "text/plain": [
       "                 no hypertension hypertension\n",
       "no pre-eclampsia 140.6984        136.3016    \n",
       "pre-eclampsia    275.3016        266.6984    "
      ]
     },
     "metadata": {},
     "output_type": "display_data"
    }
   ],
   "source": [
    "chi2$expected"
   ]
  },
  {
   "cell_type": "markdown",
   "id": "fd43e9ef-58fe-421a-9590-c379cc329166",
   "metadata": {},
   "source": [
    "The number of women who had hypertension during the first pregnancy and suffered hypertension in later life **(327)** is much greater than expected **(266.70)**.\n",
    "\n",
    "The null distribution of the test statistic is approximately **chi-squared** with **1** degree of freedom.\n",
    "Since all expected frequencies are greater than **5**, the approximation is adequate.\n",
    "\n",
    "Calculate the contribution of each value values to the **chi-squared** test statistic.\n",
    "We much square the returned matrix as **R** calculates each contribution as\n",
    "\n",
    "$$\n",
    "\\frac{O-E}{\\sqrt{E}}, \\hspace{5mm}\\text{as opposed to}\\hspace{3mm}\\frac{(O-E)^{2}}{E}.\n",
    "$$"
   ]
  },
  {
   "cell_type": "code",
   "execution_count": 8,
   "id": "7393a312-df21-4dbb-aa2b-022202718c7b",
   "metadata": {},
   "outputs": [
    {
     "data": {
      "text/html": [
       "<table class=\"dataframe\">\n",
       "<caption>A matrix: 2 × 2 of type dbl</caption>\n",
       "<thead>\n",
       "\t<tr><th></th><th scope=col>no hypertension</th><th scope=col>hypertension</th></tr>\n",
       "</thead>\n",
       "<tbody>\n",
       "\t<tr><th scope=row>no pre-eclampsia</th><td>25.84451</td><td>26.67820</td></tr>\n",
       "\t<tr><th scope=row>pre-eclampsia</th><td>13.20836</td><td>13.63443</td></tr>\n",
       "</tbody>\n",
       "</table>\n"
      ],
      "text/latex": [
       "A matrix: 2 × 2 of type dbl\n",
       "\\begin{tabular}{r|ll}\n",
       "  & no hypertension & hypertension\\\\\n",
       "\\hline\n",
       "\tno pre-eclampsia & 25.84451 & 26.67820\\\\\n",
       "\tpre-eclampsia & 13.20836 & 13.63443\\\\\n",
       "\\end{tabular}\n"
      ],
      "text/markdown": [
       "\n",
       "A matrix: 2 × 2 of type dbl\n",
       "\n",
       "| <!--/--> | no hypertension | hypertension |\n",
       "|---|---|---|\n",
       "| no pre-eclampsia | 25.84451 | 26.67820 |\n",
       "| pre-eclampsia | 13.20836 | 13.63443 |\n",
       "\n"
      ],
      "text/plain": [
       "                 no hypertension hypertension\n",
       "no pre-eclampsia 25.84451        26.67820    \n",
       "pre-eclampsia    13.20836        13.63443    "
      ]
     },
     "metadata": {},
     "output_type": "display_data"
    }
   ],
   "source": [
    "(chi2$residuals) ** 2"
   ]
  },
  {
   "cell_type": "markdown",
   "id": "6d56b0e2-f970-4af6-b6fd-5f8ace05f52d",
   "metadata": {},
   "source": [
    "Return the test statistic and **p**-value."
   ]
  },
  {
   "cell_type": "code",
   "execution_count": 9,
   "id": "4c84b87f",
   "metadata": {},
   "outputs": [
    {
     "data": {
      "text/plain": [
       "\n",
       "\tPearson's Chi-squared test\n",
       "\n",
       "data:  resmat\n",
       "X-squared = 79.366, df = 1, p-value < 2.2e-16\n"
      ]
     },
     "metadata": {},
     "output_type": "display_data"
    }
   ],
   "source": [
    "chi2"
   ]
  },
  {
   "cell_type": "markdown",
   "id": "0ab7c4ee",
   "metadata": {},
   "source": [
    "The test statistic is approximately **79.633**, with **p**-value approximately **0.0000**.\n",
    "Given **p < 0.000**, there is very strong evidence against the null hypothesis.\n",
    "Hence, there is strong evidence of a positive associaition between hypertension during the first pregnancy and hypertension in later life."
   ]
  }
 ],
 "metadata": {
  "kernelspec": {
   "display_name": "R 4.1.2",
   "language": "R",
   "name": "ir41"
  },
  "language_info": {
   "codemirror_mode": "r",
   "file_extension": ".r",
   "mimetype": "text/x-r-source",
   "name": "R",
   "pygments_lexer": "r",
   "version": "4.1.2"
  }
 },
 "nbformat": 4,
 "nbformat_minor": 5
}
