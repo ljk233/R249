{
 "cells": [
  {
   "cell_type": "markdown",
   "id": "38be3445-2eba-43ae-8037-cad53cc30bcb",
   "metadata": {},
   "source": [
    "# Marital status, Alcohol Consumption and Fatal Car Accidents\n",
    "\n",
    "**Date:** 2021-11-29\n",
    "\n",
    "**Reference:** M249, Book 1, Part 2"
   ]
  },
  {
   "cell_type": "code",
   "execution_count": 1,
   "id": "186920e4-519e-4e7f-ba36-2bb5723d5348",
   "metadata": {},
   "outputs": [],
   "source": [
    "suppressPackageStartupMessages(library(tidyverse))\n",
    "library(R249)\n",
    "library(DescTools)"
   ]
  },
  {
   "cell_type": "markdown",
   "id": "5269b966-2070-4281-96d1-a9d6cb582c15",
   "metadata": {},
   "source": [
    "## Summary"
   ]
  },
  {
   "cell_type": "markdown",
   "id": "e819f94b-6362-488c-af31-e1c70461118e",
   "metadata": {},
   "source": [
    "## Get the data"
   ]
  },
  {
   "cell_type": "code",
   "execution_count": 2,
   "id": "ae2a7568-130a-4928-a592-19b3a67ed508",
   "metadata": {},
   "outputs": [
    {
     "data": {
      "text/html": [
       "<table class=\"dataframe\">\n",
       "<caption>A tibble: 8 × 4</caption>\n",
       "<thead>\n",
       "\t<tr><th scope=col>count</th><th scope=col>level</th><th scope=col>exposure</th><th scope=col>outcome</th></tr>\n",
       "\t<tr><th scope=col>&lt;int&gt;</th><th scope=col>&lt;chr&gt;</th><th scope=col>&lt;chr&gt;</th><th scope=col>&lt;chr&gt;</th></tr>\n",
       "</thead>\n",
       "<tbody>\n",
       "\t<tr><td>  4</td><td>married    </td><td>over 100mg </td><td>case   </td></tr>\n",
       "\t<tr><td>  5</td><td>married    </td><td>over 100mg </td><td>control</td></tr>\n",
       "\t<tr><td>  5</td><td>married    </td><td>under 100mg</td><td>case   </td></tr>\n",
       "\t<tr><td>103</td><td>married    </td><td>under 100mg</td><td>control</td></tr>\n",
       "\t<tr><td> 10</td><td>not married</td><td>over 100mg </td><td>case   </td></tr>\n",
       "\t<tr><td>  3</td><td>not married</td><td>over 100mg </td><td>control</td></tr>\n",
       "\t<tr><td>  5</td><td>not married</td><td>under 100mg</td><td>case   </td></tr>\n",
       "\t<tr><td> 43</td><td>not married</td><td>under 100mg</td><td>control</td></tr>\n",
       "</tbody>\n",
       "</table>\n"
      ],
      "text/latex": [
       "A tibble: 8 × 4\n",
       "\\begin{tabular}{llll}\n",
       " count & level & exposure & outcome\\\\\n",
       " <int> & <chr> & <chr> & <chr>\\\\\n",
       "\\hline\n",
       "\t   4 & married     & over 100mg  & case   \\\\\n",
       "\t   5 & married     & over 100mg  & control\\\\\n",
       "\t   5 & married     & under 100mg & case   \\\\\n",
       "\t 103 & married     & under 100mg & control\\\\\n",
       "\t  10 & not married & over 100mg  & case   \\\\\n",
       "\t   3 & not married & over 100mg  & control\\\\\n",
       "\t   5 & not married & under 100mg & case   \\\\\n",
       "\t  43 & not married & under 100mg & control\\\\\n",
       "\\end{tabular}\n"
      ],
      "text/markdown": [
       "\n",
       "A tibble: 8 × 4\n",
       "\n",
       "| count &lt;int&gt; | level &lt;chr&gt; | exposure &lt;chr&gt; | outcome &lt;chr&gt; |\n",
       "|---|---|---|---|\n",
       "|   4 | married     | over 100mg  | case    |\n",
       "|   5 | married     | over 100mg  | control |\n",
       "|   5 | married     | under 100mg | case    |\n",
       "| 103 | married     | under 100mg | control |\n",
       "|  10 | not married | over 100mg  | case    |\n",
       "|   3 | not married | over 100mg  | control |\n",
       "|   5 | not married | under 100mg | case    |\n",
       "|  43 | not married | under 100mg | control |\n",
       "\n"
      ],
      "text/plain": [
       "  count level       exposure    outcome\n",
       "1   4   married     over 100mg  case   \n",
       "2   5   married     over 100mg  control\n",
       "3   5   married     under 100mg case   \n",
       "4 103   married     under 100mg control\n",
       "5  10   not married over 100mg  case   \n",
       "6   3   not married over 100mg  control\n",
       "7   5   not married under 100mg case   \n",
       "8  43   not married under 100mg control"
      ]
     },
     "metadata": {},
     "output_type": "display_data"
    }
   ],
   "source": [
    "(dat <- as_tibble(read.csv(file = \"..\\\\..\\\\data\\\\drinkdriving.csv\")))"
   ]
  },
  {
   "cell_type": "markdown",
   "id": "d524349f-542f-444a-98c0-3b7c25f42113",
   "metadata": {},
   "source": [
    "## Prepare the data"
   ]
  },
  {
   "cell_type": "markdown",
   "id": "21bdfccb-af3c-435d-a438-067c51845e8a",
   "metadata": {},
   "source": [
    "## Prepare the data\n",
    "\n",
    "Cast the `exposure`, `outcome`, `level` columns to factors."
   ]
  },
  {
   "cell_type": "code",
   "execution_count": 3,
   "id": "55f6afe6-bb2a-4def-98ff-d8f3ad022b85",
   "metadata": {},
   "outputs": [
    {
     "data": {
      "text/html": [
       "<table class=\"dataframe\">\n",
       "<caption>A tibble: 8 × 4</caption>\n",
       "<thead>\n",
       "\t<tr><th scope=col>count</th><th scope=col>level</th><th scope=col>exposure</th><th scope=col>outcome</th></tr>\n",
       "\t<tr><th scope=col>&lt;int&gt;</th><th scope=col>&lt;fct&gt;</th><th scope=col>&lt;fct&gt;</th><th scope=col>&lt;fct&gt;</th></tr>\n",
       "</thead>\n",
       "<tbody>\n",
       "\t<tr><td> 43</td><td>not married</td><td>under 100mg</td><td>control</td></tr>\n",
       "\t<tr><td>  5</td><td>not married</td><td>under 100mg</td><td>case   </td></tr>\n",
       "\t<tr><td>  3</td><td>not married</td><td>over 100mg </td><td>control</td></tr>\n",
       "\t<tr><td> 10</td><td>not married</td><td>over 100mg </td><td>case   </td></tr>\n",
       "\t<tr><td>103</td><td>married    </td><td>under 100mg</td><td>control</td></tr>\n",
       "\t<tr><td>  5</td><td>married    </td><td>under 100mg</td><td>case   </td></tr>\n",
       "\t<tr><td>  5</td><td>married    </td><td>over 100mg </td><td>control</td></tr>\n",
       "\t<tr><td>  4</td><td>married    </td><td>over 100mg </td><td>case   </td></tr>\n",
       "</tbody>\n",
       "</table>\n"
      ],
      "text/latex": [
       "A tibble: 8 × 4\n",
       "\\begin{tabular}{llll}\n",
       " count & level & exposure & outcome\\\\\n",
       " <int> & <fct> & <fct> & <fct>\\\\\n",
       "\\hline\n",
       "\t  43 & not married & under 100mg & control\\\\\n",
       "\t   5 & not married & under 100mg & case   \\\\\n",
       "\t   3 & not married & over 100mg  & control\\\\\n",
       "\t  10 & not married & over 100mg  & case   \\\\\n",
       "\t 103 & married     & under 100mg & control\\\\\n",
       "\t   5 & married     & under 100mg & case   \\\\\n",
       "\t   5 & married     & over 100mg  & control\\\\\n",
       "\t   4 & married     & over 100mg  & case   \\\\\n",
       "\\end{tabular}\n"
      ],
      "text/markdown": [
       "\n",
       "A tibble: 8 × 4\n",
       "\n",
       "| count &lt;int&gt; | level &lt;fct&gt; | exposure &lt;fct&gt; | outcome &lt;fct&gt; |\n",
       "|---|---|---|---|\n",
       "|  43 | not married | under 100mg | control |\n",
       "|   5 | not married | under 100mg | case    |\n",
       "|   3 | not married | over 100mg  | control |\n",
       "|  10 | not married | over 100mg  | case    |\n",
       "| 103 | married     | under 100mg | control |\n",
       "|   5 | married     | under 100mg | case    |\n",
       "|   5 | married     | over 100mg  | control |\n",
       "|   4 | married     | over 100mg  | case    |\n",
       "\n"
      ],
      "text/plain": [
       "  count level       exposure    outcome\n",
       "1  43   not married under 100mg control\n",
       "2   5   not married under 100mg case   \n",
       "3   3   not married over 100mg  control\n",
       "4  10   not married over 100mg  case   \n",
       "5 103   married     under 100mg control\n",
       "6   5   married     under 100mg case   \n",
       "7   5   married     over 100mg  control\n",
       "8   4   married     over 100mg  case   "
      ]
     },
     "metadata": {},
     "output_type": "display_data"
    }
   ],
   "source": [
    "labexp <- c(\"under 100mg\", \"over 100mg\")\n",
    "labout <- c(\"control\", \"case\")\n",
    "lablev <- c(\"not married\", \"married\")\n",
    "(sorteddat <- dat %>%\n",
    "    mutate(exposure = factor(dat$exposure, labexp)) %>%\n",
    "    mutate(outcome = factor(dat$outcome, labout)) %>%\n",
    "    mutate(level = factor(dat$level, lablev)) %>%\n",
    "    arrange(level, exposure, outcome))"
   ]
  },
  {
   "cell_type": "markdown",
   "id": "41960160-b605-4e66-a0a4-e130ff6d1ad5",
   "metadata": {},
   "source": [
    "Filter the tibble on each specific `level`, pull the `count` column as a vector and initilise a matrix.\n",
    "Append this new matrix to an array."
   ]
  },
  {
   "cell_type": "code",
   "execution_count": 4,
   "id": "aa3f1ef0-cc52-4d74-9a71-29b80ee2d076",
   "metadata": {},
   "outputs": [
    {
     "name": "stdout",
     "output_type": "stream",
     "text": [
      ", , not married\n",
      "\n",
      "            control case\n",
      "under 100mg      43    5\n",
      "over 100mg        3   10\n",
      "\n",
      ", , married\n",
      "\n",
      "            control case\n",
      "under 100mg     103    5\n",
      "over 100mg        5    4\n",
      "\n"
     ]
    }
   ],
   "source": [
    "notmarried <- filter(sorteddat, level == \"not married\") %>%\n",
    "    pull(count) %>%\n",
    "    matrix(nrow = 2, ncol = 2, byrow = TRUE, dimnames = list(labexp, labout))\n",
    "married <- filter(sorteddat, level == \"married\") %>%\n",
    "    pull(count) %>%\n",
    "    matrix(nrow = 2, ncol = 2, byrow = TRUE, dimnames = list(labexp, labout))\n",
    "datarr <- array(\n",
    "    c(notmarried, married),\n",
    "    dim = c(2, 2, 2),\n",
    "    dimnames = list(labexp, labout, lablev)\n",
    ")\n",
    "print(datarr)"
   ]
  },
  {
   "cell_type": "markdown",
   "id": "32a9236d-5126-4b8a-b605-b4f7de259cf3",
   "metadata": {},
   "source": [
    "## Stratum-specific odds ratios"
   ]
  },
  {
   "cell_type": "code",
   "execution_count": 5,
   "id": "3365da65-56a7-4a35-b3fc-5105610655bf",
   "metadata": {},
   "outputs": [
    {
     "data": {
      "text/html": [
       "<table class=\"dataframe\">\n",
       "<caption>A matrix: 2 × 4 of type dbl</caption>\n",
       "<thead>\n",
       "\t<tr><th></th><th scope=col>oddsratio</th><th scope=col>stderr</th><th scope=col>lcb</th><th scope=col>ucb</th></tr>\n",
       "</thead>\n",
       "<tbody>\n",
       "\t<tr><th scope=row>exposure 1 (-)</th><td>      NA</td><td>       NA</td><td>      NA</td><td>      NA</td></tr>\n",
       "\t<tr><th scope=row>exposure 2 (+)</th><td>28.66667</td><td>0.8103019</td><td>5.856619</td><td>140.3161</td></tr>\n",
       "</tbody>\n",
       "</table>\n"
      ],
      "text/latex": [
       "A matrix: 2 × 4 of type dbl\n",
       "\\begin{tabular}{r|llll}\n",
       "  & oddsratio & stderr & lcb & ucb\\\\\n",
       "\\hline\n",
       "\texposure 1 (-) &       NA &        NA &       NA &       NA\\\\\n",
       "\texposure 2 (+) & 28.66667 & 0.8103019 & 5.856619 & 140.3161\\\\\n",
       "\\end{tabular}\n"
      ],
      "text/markdown": [
       "\n",
       "A matrix: 2 × 4 of type dbl\n",
       "\n",
       "| <!--/--> | oddsratio | stderr | lcb | ucb |\n",
       "|---|---|---|---|---|\n",
       "| exposure 1 (-) |       NA |        NA |       NA |       NA |\n",
       "| exposure 2 (+) | 28.66667 | 0.8103019 | 5.856619 | 140.3161 |\n",
       "\n"
      ],
      "text/plain": [
       "               oddsratio stderr    lcb      ucb     \n",
       "exposure 1 (-)       NA         NA       NA       NA\n",
       "exposure 2 (+) 28.66667  0.8103019 5.856619 140.3161"
      ]
     },
     "metadata": {},
     "output_type": "display_data"
    }
   ],
   "source": [
    "# not married\n",
    "oddsratio(datarr[, , 1])"
   ]
  },
  {
   "cell_type": "code",
   "execution_count": 6,
   "id": "1c9e8b09-33cf-4513-a2b7-eec0733f8b0d",
   "metadata": {},
   "outputs": [
    {
     "data": {
      "text/html": [
       "<table class=\"dataframe\">\n",
       "<caption>A matrix: 2 × 4 of type dbl</caption>\n",
       "<thead>\n",
       "\t<tr><th></th><th scope=col>oddsratio</th><th scope=col>stderr</th><th scope=col>lcb</th><th scope=col>ucb</th></tr>\n",
       "</thead>\n",
       "<tbody>\n",
       "\t<tr><th scope=row>exposure 1 (-)</th><td>   NA</td><td>       NA</td><td>      NA</td><td>      NA</td></tr>\n",
       "\t<tr><th scope=row>exposure 2 (+)</th><td>16.48</td><td>0.8122246</td><td>3.354211</td><td>80.96998</td></tr>\n",
       "</tbody>\n",
       "</table>\n"
      ],
      "text/latex": [
       "A matrix: 2 × 4 of type dbl\n",
       "\\begin{tabular}{r|llll}\n",
       "  & oddsratio & stderr & lcb & ucb\\\\\n",
       "\\hline\n",
       "\texposure 1 (-) &    NA &        NA &       NA &       NA\\\\\n",
       "\texposure 2 (+) & 16.48 & 0.8122246 & 3.354211 & 80.96998\\\\\n",
       "\\end{tabular}\n"
      ],
      "text/markdown": [
       "\n",
       "A matrix: 2 × 4 of type dbl\n",
       "\n",
       "| <!--/--> | oddsratio | stderr | lcb | ucb |\n",
       "|---|---|---|---|---|\n",
       "| exposure 1 (-) |    NA |        NA |       NA |       NA |\n",
       "| exposure 2 (+) | 16.48 | 0.8122246 | 3.354211 | 80.96998 |\n",
       "\n"
      ],
      "text/plain": [
       "               oddsratio stderr    lcb      ucb     \n",
       "exposure 1 (-)    NA            NA       NA       NA\n",
       "exposure 2 (+) 16.48     0.8122246 3.354211 80.96998"
      ]
     },
     "metadata": {},
     "output_type": "display_data"
    }
   ],
   "source": [
    "# married\n",
    "oddsratio(datarr[, , 2])"
   ]
  },
  {
   "cell_type": "code",
   "execution_count": 7,
   "id": "7918a0c8-c236-4e04-a8d1-b86df8030cab",
   "metadata": {},
   "outputs": [
    {
     "data": {
      "text/html": [
       "<table class=\"dataframe\">\n",
       "<caption>A matrix: 2 × 4 of type dbl</caption>\n",
       "<thead>\n",
       "\t<tr><th></th><th scope=col>oddsratio</th><th scope=col>stderr</th><th scope=col>lcb</th><th scope=col>ucb</th></tr>\n",
       "</thead>\n",
       "<tbody>\n",
       "\t<tr><th scope=row>exposure 1 (-)</th><td>   NA</td><td>       NA</td><td>      NA</td><td>      NA</td></tr>\n",
       "\t<tr><th scope=row>exposure 2 (+)</th><td>25.55</td><td>0.5507067</td><td>8.682174</td><td>75.18883</td></tr>\n",
       "</tbody>\n",
       "</table>\n"
      ],
      "text/latex": [
       "A matrix: 2 × 4 of type dbl\n",
       "\\begin{tabular}{r|llll}\n",
       "  & oddsratio & stderr & lcb & ucb\\\\\n",
       "\\hline\n",
       "\texposure 1 (-) &    NA &        NA &       NA &       NA\\\\\n",
       "\texposure 2 (+) & 25.55 & 0.5507067 & 8.682174 & 75.18883\\\\\n",
       "\\end{tabular}\n"
      ],
      "text/markdown": [
       "\n",
       "A matrix: 2 × 4 of type dbl\n",
       "\n",
       "| <!--/--> | oddsratio | stderr | lcb | ucb |\n",
       "|---|---|---|---|---|\n",
       "| exposure 1 (-) |    NA |        NA |       NA |       NA |\n",
       "| exposure 2 (+) | 25.55 | 0.5507067 | 8.682174 | 75.18883 |\n",
       "\n"
      ],
      "text/plain": [
       "               oddsratio stderr    lcb      ucb     \n",
       "exposure 1 (-)    NA            NA       NA       NA\n",
       "exposure 2 (+) 25.55     0.5507067 8.682174 75.18883"
      ]
     },
     "metadata": {},
     "output_type": "display_data"
    }
   ],
   "source": [
    "oddsratio_crude(datarr)"
   ]
  },
  {
   "cell_type": "markdown",
   "id": "07a7c021-7839-44ea-8c82-551125a7c7c8",
   "metadata": {},
   "source": [
    "## Tarone's test for homogeneity"
   ]
  },
  {
   "cell_type": "code",
   "execution_count": 8,
   "id": "ec707c57-d28e-4e30-89bb-b0686a39dfa6",
   "metadata": {},
   "outputs": [
    {
     "data": {
      "text/plain": [
       "\n",
       "\tBreslow-Day Test on Homogeneity of Odds Ratios (with Tarone\n",
       "\tcorrection)\n",
       "\n",
       "data:  datarr\n",
       "X-squared = 0.23557, df = 1, p-value = 0.6274\n"
      ]
     },
     "metadata": {},
     "output_type": "display_data"
    }
   ],
   "source": [
    "BreslowDayTest(datarr, correct = TRUE)"
   ]
  },
  {
   "cell_type": "markdown",
   "id": "ed9fe35a-569c-45af-bd5a-17dec7c236e4",
   "metadata": {},
   "source": [
    "## Mantel-Haenszel odds ratio and chi-squared test"
   ]
  },
  {
   "cell_type": "code",
   "execution_count": 9,
   "id": "b2134e7a-2b00-44bf-b17c-175ec366b1d6",
   "metadata": {},
   "outputs": [
    {
     "data": {
      "text/plain": [
       "\n",
       "\tMantel-Haenszel chi-squared test with continuity correction\n",
       "\n",
       "data:  datarr\n",
       "Mantel-Haenszel X-squared = 36.604, df = 1, p-value = 1.447e-09\n",
       "alternative hypothesis: true common odds ratio is not equal to 1\n",
       "95 percent confidence interval:\n",
       "  7.465154 70.866332\n",
       "sample estimates:\n",
       "common odds ratio \n",
       "         23.00061 \n"
      ]
     },
     "metadata": {},
     "output_type": "display_data"
    }
   ],
   "source": [
    "mantelhaen.test(datarr)"
   ]
  }
 ],
 "metadata": {
  "kernelspec": {
   "display_name": "R 4.1.2",
   "language": "R",
   "name": "ir41"
  },
  "language_info": {
   "codemirror_mode": "r",
   "file_extension": ".r",
   "mimetype": "text/x-r-source",
   "name": "R",
   "pygments_lexer": "r",
   "version": "4.1.2"
  }
 },
 "nbformat": 4,
 "nbformat_minor": 5
}
