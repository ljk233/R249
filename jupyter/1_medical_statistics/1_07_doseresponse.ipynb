{
 "cells": [
  {
   "cell_type": "markdown",
   "id": "38be3445-2eba-43ae-8037-cad53cc30bcb",
   "metadata": {},
   "source": [
    "# Post-Traumatic Stress Disorder in US Veterans\n",
    "\n",
    "**Date:** 2021-12-01\n",
    "\n",
    "**Reference:** M249, Book 1, Part 2"
   ]
  },
  {
   "cell_type": "code",
   "execution_count": 1,
   "id": "186920e4-519e-4e7f-ba36-2bb5723d5348",
   "metadata": {},
   "outputs": [],
   "source": [
    "suppressPackageStartupMessages(library(tidyverse))\n",
    "library(R249)\n",
    "library(DescTools)"
   ]
  },
  {
   "cell_type": "markdown",
   "id": "5269b966-2070-4281-96d1-a9d6cb582c15",
   "metadata": {},
   "source": [
    "## Summary"
   ]
  },
  {
   "cell_type": "markdown",
   "id": "e819f94b-6362-488c-af31-e1c70461118e",
   "metadata": {},
   "source": [
    "## Get the data"
   ]
  },
  {
   "cell_type": "code",
   "execution_count": 2,
   "id": "ae2a7568-130a-4928-a592-19b3a67ed508",
   "metadata": {},
   "outputs": [
    {
     "data": {
      "text/html": [
       "<table class=\"dataframe\">\n",
       "<caption>A tibble: 12 × 3</caption>\n",
       "<thead>\n",
       "\t<tr><th scope=col>count</th><th scope=col>dose</th><th scope=col>outcome</th></tr>\n",
       "\t<tr><th scope=col>&lt;int&gt;</th><th scope=col>&lt;chr&gt;</th><th scope=col>&lt;chr&gt;</th></tr>\n",
       "</thead>\n",
       "<tbody>\n",
       "\t<tr><td> 174</td><td>extreme    </td><td>ptsd   </td></tr>\n",
       "\t<tr><td> 595</td><td>extreme    </td><td>no ptsd</td></tr>\n",
       "\t<tr><td> 260</td><td>very severe</td><td>ptsd   </td></tr>\n",
       "\t<tr><td>1155</td><td>very severe</td><td>no ptsd</td></tr>\n",
       "\t<tr><td> 362</td><td>severe     </td><td>ptsd   </td></tr>\n",
       "\t<tr><td>2688</td><td>severe     </td><td>no ptsd</td></tr>\n",
       "\t<tr><td>  97</td><td>high       </td><td>ptsd   </td></tr>\n",
       "\t<tr><td>1286</td><td>high       </td><td>no ptsd</td></tr>\n",
       "\t<tr><td> 180</td><td>moderate   </td><td>ptsd   </td></tr>\n",
       "\t<tr><td>2783</td><td>moderate   </td><td>no ptsd</td></tr>\n",
       "\t<tr><td>  95</td><td>minimal    </td><td>ptsd   </td></tr>\n",
       "\t<tr><td>2749</td><td>minimal    </td><td>no ptsd</td></tr>\n",
       "</tbody>\n",
       "</table>\n"
      ],
      "text/latex": [
       "A tibble: 12 × 3\n",
       "\\begin{tabular}{lll}\n",
       " count & dose & outcome\\\\\n",
       " <int> & <chr> & <chr>\\\\\n",
       "\\hline\n",
       "\t  174 & extreme     & ptsd   \\\\\n",
       "\t  595 & extreme     & no ptsd\\\\\n",
       "\t  260 & very severe & ptsd   \\\\\n",
       "\t 1155 & very severe & no ptsd\\\\\n",
       "\t  362 & severe      & ptsd   \\\\\n",
       "\t 2688 & severe      & no ptsd\\\\\n",
       "\t   97 & high        & ptsd   \\\\\n",
       "\t 1286 & high        & no ptsd\\\\\n",
       "\t  180 & moderate    & ptsd   \\\\\n",
       "\t 2783 & moderate    & no ptsd\\\\\n",
       "\t   95 & minimal     & ptsd   \\\\\n",
       "\t 2749 & minimal     & no ptsd\\\\\n",
       "\\end{tabular}\n"
      ],
      "text/markdown": [
       "\n",
       "A tibble: 12 × 3\n",
       "\n",
       "| count &lt;int&gt; | dose &lt;chr&gt; | outcome &lt;chr&gt; |\n",
       "|---|---|---|\n",
       "|  174 | extreme     | ptsd    |\n",
       "|  595 | extreme     | no ptsd |\n",
       "|  260 | very severe | ptsd    |\n",
       "| 1155 | very severe | no ptsd |\n",
       "|  362 | severe      | ptsd    |\n",
       "| 2688 | severe      | no ptsd |\n",
       "|   97 | high        | ptsd    |\n",
       "| 1286 | high        | no ptsd |\n",
       "|  180 | moderate    | ptsd    |\n",
       "| 2783 | moderate    | no ptsd |\n",
       "|   95 | minimal     | ptsd    |\n",
       "| 2749 | minimal     | no ptsd |\n",
       "\n"
      ],
      "text/plain": [
       "   count dose        outcome\n",
       "1   174  extreme     ptsd   \n",
       "2   595  extreme     no ptsd\n",
       "3   260  very severe ptsd   \n",
       "4  1155  very severe no ptsd\n",
       "5   362  severe      ptsd   \n",
       "6  2688  severe      no ptsd\n",
       "7    97  high        ptsd   \n",
       "8  1286  high        no ptsd\n",
       "9   180  moderate    ptsd   \n",
       "10 2783  moderate    no ptsd\n",
       "11   95  minimal     ptsd   \n",
       "12 2749  minimal     no ptsd"
      ]
     },
     "metadata": {},
     "output_type": "display_data"
    }
   ],
   "source": [
    "(dat <- as_tibble(read.csv(file = \"..\\\\..\\\\data\\\\gulfdose.csv\")))"
   ]
  },
  {
   "cell_type": "markdown",
   "id": "21bdfccb-af3c-435d-a438-067c51845e8a",
   "metadata": {},
   "source": [
    "## Prepare the data\n",
    "\n",
    "Cast the `dose`, `outcome` columns to factors."
   ]
  },
  {
   "cell_type": "code",
   "execution_count": 3,
   "id": "64b25c51-a521-44b5-bb71-b052a1a8780f",
   "metadata": {},
   "outputs": [
    {
     "data": {
      "text/html": [
       "<table class=\"dataframe\">\n",
       "<caption>A tibble: 12 × 3</caption>\n",
       "<thead>\n",
       "\t<tr><th scope=col>count</th><th scope=col>dose</th><th scope=col>outcome</th></tr>\n",
       "\t<tr><th scope=col>&lt;int&gt;</th><th scope=col>&lt;fct&gt;</th><th scope=col>&lt;fct&gt;</th></tr>\n",
       "</thead>\n",
       "<tbody>\n",
       "\t<tr><td>2749</td><td>minimal    </td><td>no ptsd</td></tr>\n",
       "\t<tr><td>  95</td><td>minimal    </td><td>ptsd   </td></tr>\n",
       "\t<tr><td>2783</td><td>moderate   </td><td>no ptsd</td></tr>\n",
       "\t<tr><td> 180</td><td>moderate   </td><td>ptsd   </td></tr>\n",
       "\t<tr><td>1286</td><td>high       </td><td>no ptsd</td></tr>\n",
       "\t<tr><td>  97</td><td>high       </td><td>ptsd   </td></tr>\n",
       "\t<tr><td>2688</td><td>severe     </td><td>no ptsd</td></tr>\n",
       "\t<tr><td> 362</td><td>severe     </td><td>ptsd   </td></tr>\n",
       "\t<tr><td>1155</td><td>very severe</td><td>no ptsd</td></tr>\n",
       "\t<tr><td> 260</td><td>very severe</td><td>ptsd   </td></tr>\n",
       "\t<tr><td> 595</td><td>extreme    </td><td>no ptsd</td></tr>\n",
       "\t<tr><td> 174</td><td>extreme    </td><td>ptsd   </td></tr>\n",
       "</tbody>\n",
       "</table>\n"
      ],
      "text/latex": [
       "A tibble: 12 × 3\n",
       "\\begin{tabular}{lll}\n",
       " count & dose & outcome\\\\\n",
       " <int> & <fct> & <fct>\\\\\n",
       "\\hline\n",
       "\t 2749 & minimal     & no ptsd\\\\\n",
       "\t   95 & minimal     & ptsd   \\\\\n",
       "\t 2783 & moderate    & no ptsd\\\\\n",
       "\t  180 & moderate    & ptsd   \\\\\n",
       "\t 1286 & high        & no ptsd\\\\\n",
       "\t   97 & high        & ptsd   \\\\\n",
       "\t 2688 & severe      & no ptsd\\\\\n",
       "\t  362 & severe      & ptsd   \\\\\n",
       "\t 1155 & very severe & no ptsd\\\\\n",
       "\t  260 & very severe & ptsd   \\\\\n",
       "\t  595 & extreme     & no ptsd\\\\\n",
       "\t  174 & extreme     & ptsd   \\\\\n",
       "\\end{tabular}\n"
      ],
      "text/markdown": [
       "\n",
       "A tibble: 12 × 3\n",
       "\n",
       "| count &lt;int&gt; | dose &lt;fct&gt; | outcome &lt;fct&gt; |\n",
       "|---|---|---|\n",
       "| 2749 | minimal     | no ptsd |\n",
       "|   95 | minimal     | ptsd    |\n",
       "| 2783 | moderate    | no ptsd |\n",
       "|  180 | moderate    | ptsd    |\n",
       "| 1286 | high        | no ptsd |\n",
       "|   97 | high        | ptsd    |\n",
       "| 2688 | severe      | no ptsd |\n",
       "|  362 | severe      | ptsd    |\n",
       "| 1155 | very severe | no ptsd |\n",
       "|  260 | very severe | ptsd    |\n",
       "|  595 | extreme     | no ptsd |\n",
       "|  174 | extreme     | ptsd    |\n",
       "\n"
      ],
      "text/plain": [
       "   count dose        outcome\n",
       "1  2749  minimal     no ptsd\n",
       "2    95  minimal     ptsd   \n",
       "3  2783  moderate    no ptsd\n",
       "4   180  moderate    ptsd   \n",
       "5  1286  high        no ptsd\n",
       "6    97  high        ptsd   \n",
       "7  2688  severe      no ptsd\n",
       "8   362  severe      ptsd   \n",
       "9  1155  very severe no ptsd\n",
       "10  260  very severe ptsd   \n",
       "11  595  extreme     no ptsd\n",
       "12  174  extreme     ptsd   "
      ]
     },
     "metadata": {},
     "output_type": "display_data"
    }
   ],
   "source": [
    "labdose <- c(\"minimal\", \"moderate\", \"high\", \"severe\", \"very severe\", \"extreme\")\n",
    "labout <- c(\"no ptsd\", \"ptsd\")\n",
    "(sorteddat <- dat %>%\n",
    "    mutate(dose = factor(dat$dose, labdose)) %>%\n",
    "    mutate(outcome = factor(dat$outcome, labout)) %>%\n",
    "    arrange(dose, outcome))"
   ]
  },
  {
   "cell_type": "markdown",
   "id": "41960160-b605-4e66-a0a4-e130ff6d1ad5",
   "metadata": {},
   "source": [
    "Pull the `count` column as a vector and initilise a matrix."
   ]
  },
  {
   "cell_type": "code",
   "execution_count": 4,
   "id": "aa3f1ef0-cc52-4d74-9a71-29b80ee2d076",
   "metadata": {},
   "outputs": [
    {
     "data": {
      "text/html": [
       "<table class=\"dataframe\">\n",
       "<caption>A matrix: 6 × 2 of type int</caption>\n",
       "<thead>\n",
       "\t<tr><th></th><th scope=col>no ptsd</th><th scope=col>ptsd</th></tr>\n",
       "</thead>\n",
       "<tbody>\n",
       "\t<tr><th scope=row>minimal</th><td>2749</td><td> 95</td></tr>\n",
       "\t<tr><th scope=row>moderate</th><td>2783</td><td>180</td></tr>\n",
       "\t<tr><th scope=row>high</th><td>1286</td><td> 97</td></tr>\n",
       "\t<tr><th scope=row>severe</th><td>2688</td><td>362</td></tr>\n",
       "\t<tr><th scope=row>very severe</th><td>1155</td><td>260</td></tr>\n",
       "\t<tr><th scope=row>extreme</th><td> 595</td><td>174</td></tr>\n",
       "</tbody>\n",
       "</table>\n"
      ],
      "text/latex": [
       "A matrix: 6 × 2 of type int\n",
       "\\begin{tabular}{r|ll}\n",
       "  & no ptsd & ptsd\\\\\n",
       "\\hline\n",
       "\tminimal & 2749 &  95\\\\\n",
       "\tmoderate & 2783 & 180\\\\\n",
       "\thigh & 1286 &  97\\\\\n",
       "\tsevere & 2688 & 362\\\\\n",
       "\tvery severe & 1155 & 260\\\\\n",
       "\textreme &  595 & 174\\\\\n",
       "\\end{tabular}\n"
      ],
      "text/markdown": [
       "\n",
       "A matrix: 6 × 2 of type int\n",
       "\n",
       "| <!--/--> | no ptsd | ptsd |\n",
       "|---|---|---|\n",
       "| minimal | 2749 |  95 |\n",
       "| moderate | 2783 | 180 |\n",
       "| high | 1286 |  97 |\n",
       "| severe | 2688 | 362 |\n",
       "| very severe | 1155 | 260 |\n",
       "| extreme |  595 | 174 |\n",
       "\n"
      ],
      "text/plain": [
       "            no ptsd ptsd\n",
       "minimal     2749     95 \n",
       "moderate    2783    180 \n",
       "high        1286     97 \n",
       "severe      2688    362 \n",
       "very severe 1155    260 \n",
       "extreme      595    174 "
      ]
     },
     "metadata": {},
     "output_type": "display_data"
    }
   ],
   "source": [
    "datmat <- sorteddat$count %>%\n",
    "    matrix(nrow = 6, ncol = 2, byrow = TRUE, dimnames = list(labdose, labout))\n",
    "datmat"
   ]
  },
  {
   "cell_type": "markdown",
   "id": "32a9236d-5126-4b8a-b605-b4f7de259cf3",
   "metadata": {},
   "source": [
    "## Dose-specific odds\n",
    "\n",
    "Calculate the odds and log(odds) of each dose."
   ]
  },
  {
   "cell_type": "code",
   "execution_count": 5,
   "id": "3365da65-56a7-4a35-b3fc-5105610655bf",
   "metadata": {},
   "outputs": [
    {
     "data": {
      "text/html": [
       "<table class=\"dataframe\">\n",
       "<caption>A matrix: 6 × 2 of type dbl</caption>\n",
       "<thead>\n",
       "\t<tr><th></th><th scope=col>odds</th><th scope=col>log(odds)</th></tr>\n",
       "</thead>\n",
       "<tbody>\n",
       "\t<tr><th scope=row>minimal</th><td>        NA</td><td>       NA</td></tr>\n",
       "\t<tr><th scope=row>moderate</th><td>0.06467840</td><td>-2.738328</td></tr>\n",
       "\t<tr><th scope=row>high</th><td>0.07542768</td><td>-2.584581</td></tr>\n",
       "\t<tr><th scope=row>severe</th><td>0.13467262</td><td>-2.004908</td></tr>\n",
       "\t<tr><th scope=row>very severe</th><td>0.22510823</td><td>-1.491174</td></tr>\n",
       "\t<tr><th scope=row>extreme</th><td>0.29243697</td><td>-1.229506</td></tr>\n",
       "</tbody>\n",
       "</table>\n"
      ],
      "text/latex": [
       "A matrix: 6 × 2 of type dbl\n",
       "\\begin{tabular}{r|ll}\n",
       "  & odds & log(odds)\\\\\n",
       "\\hline\n",
       "\tminimal &         NA &        NA\\\\\n",
       "\tmoderate & 0.06467840 & -2.738328\\\\\n",
       "\thigh & 0.07542768 & -2.584581\\\\\n",
       "\tsevere & 0.13467262 & -2.004908\\\\\n",
       "\tvery severe & 0.22510823 & -1.491174\\\\\n",
       "\textreme & 0.29243697 & -1.229506\\\\\n",
       "\\end{tabular}\n"
      ],
      "text/markdown": [
       "\n",
       "A matrix: 6 × 2 of type dbl\n",
       "\n",
       "| <!--/--> | odds | log(odds) |\n",
       "|---|---|---|\n",
       "| minimal |         NA |        NA |\n",
       "| moderate | 0.06467840 | -2.738328 |\n",
       "| high | 0.07542768 | -2.584581 |\n",
       "| severe | 0.13467262 | -2.004908 |\n",
       "| very severe | 0.22510823 | -1.491174 |\n",
       "| extreme | 0.29243697 | -1.229506 |\n",
       "\n"
      ],
      "text/plain": [
       "            odds       log(odds)\n",
       "minimal             NA        NA\n",
       "moderate    0.06467840 -2.738328\n",
       "high        0.07542768 -2.584581\n",
       "severe      0.13467262 -2.004908\n",
       "very severe 0.22510823 -1.491174\n",
       "extreme     0.29243697 -1.229506"
      ]
     },
     "metadata": {},
     "output_type": "display_data"
    }
   ],
   "source": [
    "odds(datmat)"
   ]
  },
  {
   "cell_type": "markdown",
   "id": "345cd9f7-fa73-4b62-9044-0d2177faf2c7",
   "metadata": {},
   "source": [
    "## Dose-specific odds ratios\n",
    "\n",
    "Calculate the dose-specific odds ratio for each dose."
   ]
  },
  {
   "cell_type": "code",
   "execution_count": 6,
   "id": "16768ecc-dde8-4903-a59d-d4ab925f5998",
   "metadata": {},
   "outputs": [
    {
     "data": {
      "text/html": [
       "<table class=\"dataframe\">\n",
       "<caption>A matrix: 6 × 4 of type dbl</caption>\n",
       "<thead>\n",
       "\t<tr><th></th><th scope=col>oddsratio</th><th scope=col>stderr</th><th scope=col>lcb</th><th scope=col>ucb</th></tr>\n",
       "</thead>\n",
       "<tbody>\n",
       "\t<tr><th scope=row>minimal</th><td>      NA</td><td>       NA</td><td>      NA</td><td>       NA</td></tr>\n",
       "\t<tr><th scope=row>moderate</th><td>1.871589</td><td>0.1296340</td><td>1.451663</td><td> 2.412987</td></tr>\n",
       "\t<tr><th scope=row>high</th><td>2.182639</td><td>0.1482463</td><td>1.632279</td><td> 2.918565</td></tr>\n",
       "\t<tr><th scope=row>severe</th><td>3.897000</td><td>0.1184252</td><td>3.089774</td><td> 4.915121</td></tr>\n",
       "\t<tr><th scope=row>very severe</th><td>6.513921</td><td>0.1249081</td><td>5.099417</td><td> 8.320789</td></tr>\n",
       "\t<tr><th scope=row>extreme</th><td>8.462203</td><td>0.1353436</td><td>6.490509</td><td>11.032859</td></tr>\n",
       "</tbody>\n",
       "</table>\n"
      ],
      "text/latex": [
       "A matrix: 6 × 4 of type dbl\n",
       "\\begin{tabular}{r|llll}\n",
       "  & oddsratio & stderr & lcb & ucb\\\\\n",
       "\\hline\n",
       "\tminimal &       NA &        NA &       NA &        NA\\\\\n",
       "\tmoderate & 1.871589 & 0.1296340 & 1.451663 &  2.412987\\\\\n",
       "\thigh & 2.182639 & 0.1482463 & 1.632279 &  2.918565\\\\\n",
       "\tsevere & 3.897000 & 0.1184252 & 3.089774 &  4.915121\\\\\n",
       "\tvery severe & 6.513921 & 0.1249081 & 5.099417 &  8.320789\\\\\n",
       "\textreme & 8.462203 & 0.1353436 & 6.490509 & 11.032859\\\\\n",
       "\\end{tabular}\n"
      ],
      "text/markdown": [
       "\n",
       "A matrix: 6 × 4 of type dbl\n",
       "\n",
       "| <!--/--> | oddsratio | stderr | lcb | ucb |\n",
       "|---|---|---|---|---|\n",
       "| minimal |       NA |        NA |       NA |        NA |\n",
       "| moderate | 1.871589 | 0.1296340 | 1.451663 |  2.412987 |\n",
       "| high | 2.182639 | 0.1482463 | 1.632279 |  2.918565 |\n",
       "| severe | 3.897000 | 0.1184252 | 3.089774 |  4.915121 |\n",
       "| very severe | 6.513921 | 0.1249081 | 5.099417 |  8.320789 |\n",
       "| extreme | 8.462203 | 0.1353436 | 6.490509 | 11.032859 |\n",
       "\n"
      ],
      "text/plain": [
       "            oddsratio stderr    lcb      ucb      \n",
       "minimal           NA         NA       NA        NA\n",
       "moderate    1.871589  0.1296340 1.451663  2.412987\n",
       "high        2.182639  0.1482463 1.632279  2.918565\n",
       "severe      3.897000  0.1184252 3.089774  4.915121\n",
       "very severe 6.513921  0.1249081 5.099417  8.320789\n",
       "extreme     8.462203  0.1353436 6.490509 11.032859"
      ]
     },
     "metadata": {},
     "output_type": "display_data"
    }
   ],
   "source": [
    "oddsratio(datmat)"
   ]
  },
  {
   "cell_type": "markdown",
   "id": "ed9fe35a-569c-45af-bd5a-17dec7c236e4",
   "metadata": {},
   "source": [
    "## Chi-squared test for no linear trend"
   ]
  },
  {
   "cell_type": "code",
   "execution_count": 7,
   "id": "b2134e7a-2b00-44bf-b17c-175ec366b1d6",
   "metadata": {},
   "outputs": [
    {
     "data": {
      "text/html": [
       "<table class=\"dataframe\">\n",
       "<caption>A matrix: 1 × 2 of type dbl</caption>\n",
       "<thead>\n",
       "\t<tr><th></th><th scope=col>chisq</th><th scope=col>pval</th></tr>\n",
       "</thead>\n",
       "<tbody>\n",
       "\t<tr><th scope=row>result</th><td>436.6505</td><td>5.800172e-97</td></tr>\n",
       "</tbody>\n",
       "</table>\n"
      ],
      "text/latex": [
       "A matrix: 1 × 2 of type dbl\n",
       "\\begin{tabular}{r|ll}\n",
       "  & chisq & pval\\\\\n",
       "\\hline\n",
       "\tresult & 436.6505 & 5.800172e-97\\\\\n",
       "\\end{tabular}\n"
      ],
      "text/markdown": [
       "\n",
       "A matrix: 1 × 2 of type dbl\n",
       "\n",
       "| <!--/--> | chisq | pval |\n",
       "|---|---|---|\n",
       "| result | 436.6505 | 5.800172e-97 |\n",
       "\n"
      ],
      "text/plain": [
       "       chisq    pval        \n",
       "result 436.6505 5.800172e-97"
      ]
     },
     "metadata": {},
     "output_type": "display_data"
    }
   ],
   "source": [
    "chisq_lineartrend(datmat)"
   ]
  }
 ],
 "metadata": {
  "kernelspec": {
   "display_name": "R 4.1.2",
   "language": "R",
   "name": "ir41"
  },
  "language_info": {
   "codemirror_mode": "r",
   "file_extension": ".r",
   "mimetype": "text/x-r-source",
   "name": "R",
   "pygments_lexer": "r",
   "version": "4.1.2"
  }
 },
 "nbformat": 4,
 "nbformat_minor": 5
}
