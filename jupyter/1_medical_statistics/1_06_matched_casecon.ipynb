{
 "cells": [
  {
   "cell_type": "markdown",
   "id": "38be3445-2eba-43ae-8037-cad53cc30bcb",
   "metadata": {},
   "source": [
    "# Heart attacks Among Navajo Indians\n",
    "\n",
    "**Date:** 2021-12-01\n",
    "\n",
    "**Reference:** M249, Book 1, Part 2"
   ]
  },
  {
   "cell_type": "code",
   "execution_count": 1,
   "id": "186920e4-519e-4e7f-ba36-2bb5723d5348",
   "metadata": {},
   "outputs": [],
   "source": [
    "suppressPackageStartupMessages(library(tidyverse))\n",
    "library(R249)\n",
    "library(DescTools)"
   ]
  },
  {
   "cell_type": "markdown",
   "id": "5269b966-2070-4281-96d1-a9d6cb582c15",
   "metadata": {},
   "source": [
    "## Summary"
   ]
  },
  {
   "cell_type": "markdown",
   "id": "e819f94b-6362-488c-af31-e1c70461118e",
   "metadata": {},
   "source": [
    "## Get the data"
   ]
  },
  {
   "cell_type": "code",
   "execution_count": 2,
   "id": "ae2a7568-130a-4928-a592-19b3a67ed508",
   "metadata": {},
   "outputs": [
    {
     "data": {
      "text/html": [
       "<table class=\"dataframe\">\n",
       "<caption>A tibble: 4 × 3</caption>\n",
       "<thead>\n",
       "\t<tr><th scope=col>count</th><th scope=col>cases</th><th scope=col>controls</th></tr>\n",
       "\t<tr><th scope=col>&lt;int&gt;</th><th scope=col>&lt;chr&gt;</th><th scope=col>&lt;chr&gt;</th></tr>\n",
       "</thead>\n",
       "<tbody>\n",
       "\t<tr><td> 9</td><td>diabetes   </td><td>diabetes   </td></tr>\n",
       "\t<tr><td>37</td><td>diabetes   </td><td>no diabetes</td></tr>\n",
       "\t<tr><td>16</td><td>no diabetes</td><td>diabetes   </td></tr>\n",
       "\t<tr><td>82</td><td>no diabetes</td><td>no diabetes</td></tr>\n",
       "</tbody>\n",
       "</table>\n"
      ],
      "text/latex": [
       "A tibble: 4 × 3\n",
       "\\begin{tabular}{lll}\n",
       " count & cases & controls\\\\\n",
       " <int> & <chr> & <chr>\\\\\n",
       "\\hline\n",
       "\t  9 & diabetes    & diabetes   \\\\\n",
       "\t 37 & diabetes    & no diabetes\\\\\n",
       "\t 16 & no diabetes & diabetes   \\\\\n",
       "\t 82 & no diabetes & no diabetes\\\\\n",
       "\\end{tabular}\n"
      ],
      "text/markdown": [
       "\n",
       "A tibble: 4 × 3\n",
       "\n",
       "| count &lt;int&gt; | cases &lt;chr&gt; | controls &lt;chr&gt; |\n",
       "|---|---|---|\n",
       "|  9 | diabetes    | diabetes    |\n",
       "| 37 | diabetes    | no diabetes |\n",
       "| 16 | no diabetes | diabetes    |\n",
       "| 82 | no diabetes | no diabetes |\n",
       "\n"
      ],
      "text/plain": [
       "  count cases       controls   \n",
       "1  9    diabetes    diabetes   \n",
       "2 37    diabetes    no diabetes\n",
       "3 16    no diabetes diabetes   \n",
       "4 82    no diabetes no diabetes"
      ]
     },
     "metadata": {},
     "output_type": "display_data"
    }
   ],
   "source": [
    "(dat <- as_tibble(read.csv(file = \"..\\\\..\\\\data\\\\navajoindians.csv\")))"
   ]
  },
  {
   "cell_type": "markdown",
   "id": "21bdfccb-af3c-435d-a438-067c51845e8a",
   "metadata": {},
   "source": [
    "## Prepare the data\n",
    "\n",
    "Cast the `cases`, `controls` columns to factors."
   ]
  },
  {
   "cell_type": "code",
   "execution_count": 3,
   "id": "64b25c51-a521-44b5-bb71-b052a1a8780f",
   "metadata": {},
   "outputs": [
    {
     "data": {
      "text/html": [
       "<table class=\"dataframe\">\n",
       "<caption>A tibble: 4 × 3</caption>\n",
       "<thead>\n",
       "\t<tr><th scope=col>count</th><th scope=col>cases</th><th scope=col>controls</th></tr>\n",
       "\t<tr><th scope=col>&lt;int&gt;</th><th scope=col>&lt;fct&gt;</th><th scope=col>&lt;fct&gt;</th></tr>\n",
       "</thead>\n",
       "<tbody>\n",
       "\t<tr><td>82</td><td>no diabetes</td><td>no diabetes</td></tr>\n",
       "\t<tr><td>16</td><td>no diabetes</td><td>diabetes   </td></tr>\n",
       "\t<tr><td>37</td><td>diabetes   </td><td>no diabetes</td></tr>\n",
       "\t<tr><td> 9</td><td>diabetes   </td><td>diabetes   </td></tr>\n",
       "</tbody>\n",
       "</table>\n"
      ],
      "text/latex": [
       "A tibble: 4 × 3\n",
       "\\begin{tabular}{lll}\n",
       " count & cases & controls\\\\\n",
       " <int> & <fct> & <fct>\\\\\n",
       "\\hline\n",
       "\t 82 & no diabetes & no diabetes\\\\\n",
       "\t 16 & no diabetes & diabetes   \\\\\n",
       "\t 37 & diabetes    & no diabetes\\\\\n",
       "\t  9 & diabetes    & diabetes   \\\\\n",
       "\\end{tabular}\n"
      ],
      "text/markdown": [
       "\n",
       "A tibble: 4 × 3\n",
       "\n",
       "| count &lt;int&gt; | cases &lt;fct&gt; | controls &lt;fct&gt; |\n",
       "|---|---|---|\n",
       "| 82 | no diabetes | no diabetes |\n",
       "| 16 | no diabetes | diabetes    |\n",
       "| 37 | diabetes    | no diabetes |\n",
       "|  9 | diabetes    | diabetes    |\n",
       "\n"
      ],
      "text/plain": [
       "  count cases       controls   \n",
       "1 82    no diabetes no diabetes\n",
       "2 16    no diabetes diabetes   \n",
       "3 37    diabetes    no diabetes\n",
       "4  9    diabetes    diabetes   "
      ]
     },
     "metadata": {},
     "output_type": "display_data"
    }
   ],
   "source": [
    "labexp <- c(\"no diabetes\", \"diabetes\")\n",
    "(sorteddat <- dat %>%\n",
    "    mutate(cases = factor(dat$cases, labexp)) %>%\n",
    "    mutate(controls = factor(dat$controls, labexp)) %>%\n",
    "    arrange(cases, controls))"
   ]
  },
  {
   "cell_type": "markdown",
   "id": "41960160-b605-4e66-a0a4-e130ff6d1ad5",
   "metadata": {},
   "source": [
    "Pull the `count` column as a vector and initilise a matrix."
   ]
  },
  {
   "cell_type": "code",
   "execution_count": 4,
   "id": "aa3f1ef0-cc52-4d74-9a71-29b80ee2d076",
   "metadata": {},
   "outputs": [
    {
     "name": "stdout",
     "output_type": "stream",
     "text": [
      "            no diabetes diabetes\n",
      "no diabetes          82       37\n",
      "diabetes             16        9\n"
     ]
    }
   ],
   "source": [
    "datmat <- sorteddat$count %>%\n",
    "    matrix(nrow = 2, ncol = 2, dimnames = list(labexp, labexp))\n",
    "print(datmat)"
   ]
  },
  {
   "cell_type": "markdown",
   "id": "32a9236d-5126-4b8a-b605-b4f7de259cf3",
   "metadata": {},
   "source": [
    "## Mantel-Haenszel odds ratio\n",
    "\n",
    "Calculate the odds ratio."
   ]
  },
  {
   "cell_type": "code",
   "execution_count": 5,
   "id": "3365da65-56a7-4a35-b3fc-5105610655bf",
   "metadata": {},
   "outputs": [
    {
     "data": {
      "text/html": [
       "<table class=\"dataframe\">\n",
       "<caption>A matrix: 1 × 4 of type dbl</caption>\n",
       "<thead>\n",
       "\t<tr><th></th><th scope=col>oddsratio</th><th scope=col>stderr</th><th scope=col>lcb</th><th scope=col>ucb</th></tr>\n",
       "</thead>\n",
       "<tbody>\n",
       "\t<tr><th scope=row>1-1 matched case-control</th><td>2.3125</td><td>0.2992107</td><td>1.286451</td><td>4.156907</td></tr>\n",
       "</tbody>\n",
       "</table>\n"
      ],
      "text/latex": [
       "A matrix: 1 × 4 of type dbl\n",
       "\\begin{tabular}{r|llll}\n",
       "  & oddsratio & stderr & lcb & ucb\\\\\n",
       "\\hline\n",
       "\t1-1 matched case-control & 2.3125 & 0.2992107 & 1.286451 & 4.156907\\\\\n",
       "\\end{tabular}\n"
      ],
      "text/markdown": [
       "\n",
       "A matrix: 1 × 4 of type dbl\n",
       "\n",
       "| <!--/--> | oddsratio | stderr | lcb | ucb |\n",
       "|---|---|---|---|---|\n",
       "| 1-1 matched case-control | 2.3125 | 0.2992107 | 1.286451 | 4.156907 |\n",
       "\n"
      ],
      "text/plain": [
       "                         oddsratio stderr    lcb      ucb     \n",
       "1-1 matched case-control 2.3125    0.2992107 1.286451 4.156907"
      ]
     },
     "metadata": {},
     "output_type": "display_data"
    }
   ],
   "source": [
    "oddsratio_matched(datmat)"
   ]
  },
  {
   "cell_type": "markdown",
   "id": "ed9fe35a-569c-45af-bd5a-17dec7c236e4",
   "metadata": {},
   "source": [
    "## McNemar's test for no association"
   ]
  },
  {
   "cell_type": "code",
   "execution_count": 6,
   "id": "b2134e7a-2b00-44bf-b17c-175ec366b1d6",
   "metadata": {},
   "outputs": [
    {
     "data": {
      "text/plain": [
       "\n",
       "\tMcNemar's Chi-squared test with continuity correction\n",
       "\n",
       "data:  datmat\n",
       "McNemar's chi-squared = 7.5472, df = 1, p-value = 0.00601\n"
      ]
     },
     "metadata": {},
     "output_type": "display_data"
    }
   ],
   "source": [
    "mcnemar.test(datmat)"
   ]
  }
 ],
 "metadata": {
  "kernelspec": {
   "display_name": "R 4.1.2",
   "language": "R",
   "name": "ir41"
  },
  "language_info": {
   "codemirror_mode": "r",
   "file_extension": ".r",
   "mimetype": "text/x-r-source",
   "name": "R",
   "pygments_lexer": "r",
   "version": "4.1.2"
  }
 },
 "nbformat": 4,
 "nbformat_minor": 5
}
