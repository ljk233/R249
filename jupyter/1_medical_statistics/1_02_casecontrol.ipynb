{
 "cells": [
  {
   "cell_type": "markdown",
   "id": "6028e803",
   "metadata": {},
   "source": [
    "# Sleeping Position and Sudden Infant Death Syndrome\n",
    "\n",
    "**Date:** 2021-11-28\n",
    "\n",
    "**Reference:** M249, Book 1, Part 1"
   ]
  },
  {
   "cell_type": "code",
   "execution_count": 1,
   "id": "e0b78ccf",
   "metadata": {},
   "outputs": [],
   "source": [
    "suppressPackageStartupMessages(library(tidyverse))\n",
    "library(R249)"
   ]
  },
  {
   "cell_type": "markdown",
   "id": "de04b3cf",
   "metadata": {},
   "source": [
    "## Summary\n",
    "\n",
    "The aim of this notebook was to show how to analyse a case-control study with multiple exposures in **R**.\n",
    "Data on a case-control study examining cot death and the last placed sleeping position of an infant were gathered.\n",
    "The odds ratio was calculated and a chi-squared test of no association was performed.\n",
    "It was concluded that the study provided strong evidence of a positive association between cot death and placing an infants down on it front or side, and a negative associaition between cot death and placing an infants down on it front or back."
   ]
  },
  {
   "cell_type": "markdown",
   "id": "0e2cdcb3",
   "metadata": {},
   "source": [
    "## Get the data\n",
    "\n",
    "Researchers gather data on 188 cases of infants who died of SIDS and 774 controls of live infants of similar ages and from the same localities as the babies that died.\n",
    "The exposures were the last placed sleeping position of the infant, one of either side, front, back.\n",
    "The reference category for this analysis was chosen to be infants who slept on their side.\n",
    "\n",
    "Results from the cohort study are saved in the `data` folder."
   ]
  },
  {
   "cell_type": "code",
   "execution_count": 2,
   "id": "d7c01c9b",
   "metadata": {},
   "outputs": [
    {
     "data": {
      "text/html": [
       "<table class=\"dataframe\">\n",
       "<caption>A tibble: 6 × 3</caption>\n",
       "<thead>\n",
       "\t<tr><th scope=col>count</th><th scope=col>exposure</th><th scope=col>outcome</th></tr>\n",
       "\t<tr><th scope=col>&lt;int&gt;</th><th scope=col>&lt;chr&gt;</th><th scope=col>&lt;chr&gt;</th></tr>\n",
       "</thead>\n",
       "<tbody>\n",
       "\t<tr><td> 30</td><td>slept on front</td><td>case   </td></tr>\n",
       "\t<tr><td> 24</td><td>slept on front</td><td>control</td></tr>\n",
       "\t<tr><td> 76</td><td>slept on side </td><td>case   </td></tr>\n",
       "\t<tr><td>241</td><td>slept on side </td><td>control</td></tr>\n",
       "\t<tr><td> 82</td><td>slept on back </td><td>case   </td></tr>\n",
       "\t<tr><td>509</td><td>slept on back </td><td>control</td></tr>\n",
       "</tbody>\n",
       "</table>\n"
      ],
      "text/latex": [
       "A tibble: 6 × 3\n",
       "\\begin{tabular}{lll}\n",
       " count & exposure & outcome\\\\\n",
       " <int> & <chr> & <chr>\\\\\n",
       "\\hline\n",
       "\t  30 & slept on front & case   \\\\\n",
       "\t  24 & slept on front & control\\\\\n",
       "\t  76 & slept on side  & case   \\\\\n",
       "\t 241 & slept on side  & control\\\\\n",
       "\t  82 & slept on back  & case   \\\\\n",
       "\t 509 & slept on back  & control\\\\\n",
       "\\end{tabular}\n"
      ],
      "text/markdown": [
       "\n",
       "A tibble: 6 × 3\n",
       "\n",
       "| count &lt;int&gt; | exposure &lt;chr&gt; | outcome &lt;chr&gt; |\n",
       "|---|---|---|\n",
       "|  30 | slept on front | case    |\n",
       "|  24 | slept on front | control |\n",
       "|  76 | slept on side  | case    |\n",
       "| 241 | slept on side  | control |\n",
       "|  82 | slept on back  | case    |\n",
       "| 509 | slept on back  | control |\n",
       "\n"
      ],
      "text/plain": [
       "  count exposure       outcome\n",
       "1  30   slept on front case   \n",
       "2  24   slept on front control\n",
       "3  76   slept on side  case   \n",
       "4 241   slept on side  control\n",
       "5  82   slept on back  case   \n",
       "6 509   slept on back  control"
      ]
     },
     "metadata": {},
     "output_type": "display_data"
    }
   ],
   "source": [
    "(res <- as_tibble(read.csv(file = \"..\\\\..\\\\data\\\\sids.csv\")))"
   ]
  },
  {
   "cell_type": "markdown",
   "id": "c65f4d89",
   "metadata": {},
   "source": [
    "## Prepare the data\n",
    "\n",
    "Cast the `exposure`, `casecon` columns to factors."
   ]
  },
  {
   "cell_type": "code",
   "execution_count": 3,
   "id": "be7d8992-f9d5-4cf7-b2bc-22aa7caf7ab8",
   "metadata": {},
   "outputs": [
    {
     "data": {
      "text/html": [
       "<table class=\"dataframe\">\n",
       "<caption>A tibble: 6 × 3</caption>\n",
       "<thead>\n",
       "\t<tr><th scope=col>count</th><th scope=col>exposure</th><th scope=col>outcome</th></tr>\n",
       "\t<tr><th scope=col>&lt;int&gt;</th><th scope=col>&lt;fct&gt;</th><th scope=col>&lt;fct&gt;</th></tr>\n",
       "</thead>\n",
       "<tbody>\n",
       "\t<tr><td>241</td><td>slept on side </td><td>control</td></tr>\n",
       "\t<tr><td> 76</td><td>slept on side </td><td>case   </td></tr>\n",
       "\t<tr><td> 24</td><td>slept on front</td><td>control</td></tr>\n",
       "\t<tr><td> 30</td><td>slept on front</td><td>case   </td></tr>\n",
       "\t<tr><td>509</td><td>slept on back </td><td>control</td></tr>\n",
       "\t<tr><td> 82</td><td>slept on back </td><td>case   </td></tr>\n",
       "</tbody>\n",
       "</table>\n"
      ],
      "text/latex": [
       "A tibble: 6 × 3\n",
       "\\begin{tabular}{lll}\n",
       " count & exposure & outcome\\\\\n",
       " <int> & <fct> & <fct>\\\\\n",
       "\\hline\n",
       "\t 241 & slept on side  & control\\\\\n",
       "\t  76 & slept on side  & case   \\\\\n",
       "\t  24 & slept on front & control\\\\\n",
       "\t  30 & slept on front & case   \\\\\n",
       "\t 509 & slept on back  & control\\\\\n",
       "\t  82 & slept on back  & case   \\\\\n",
       "\\end{tabular}\n"
      ],
      "text/markdown": [
       "\n",
       "A tibble: 6 × 3\n",
       "\n",
       "| count &lt;int&gt; | exposure &lt;fct&gt; | outcome &lt;fct&gt; |\n",
       "|---|---|---|\n",
       "| 241 | slept on side  | control |\n",
       "|  76 | slept on side  | case    |\n",
       "|  24 | slept on front | control |\n",
       "|  30 | slept on front | case    |\n",
       "| 509 | slept on back  | control |\n",
       "|  82 | slept on back  | case    |\n",
       "\n"
      ],
      "text/plain": [
       "  count exposure       outcome\n",
       "1 241   slept on side  control\n",
       "2  76   slept on side  case   \n",
       "3  24   slept on front control\n",
       "4  30   slept on front case   \n",
       "5 509   slept on back  control\n",
       "6  82   slept on back  case   "
      ]
     },
     "metadata": {},
     "output_type": "display_data"
    }
   ],
   "source": [
    "labexp <- c(\"slept on side\", \"slept on front\", \"slept on back\")\n",
    "labout <- c(\"control\", \"case\")\n",
    "(sortedres <- res %>%\n",
    "    mutate(exposure = factor(res$exposure, labexp)) %>%\n",
    "    mutate(outcome = factor(res$outcome, labout)) %>%\n",
    "    arrange(exposure, outcome))"
   ]
  },
  {
   "cell_type": "markdown",
   "id": "d3671061-2324-4c29-bc0d-55af002479bf",
   "metadata": {},
   "source": [
    "Pull the `count` column as a vector and use it to initialise a matrix."
   ]
  },
  {
   "cell_type": "code",
   "execution_count": 4,
   "id": "b33a64db-5167-493b-9fae-032089601309",
   "metadata": {},
   "outputs": [
    {
     "data": {
      "text/html": [
       "<table class=\"dataframe\">\n",
       "<caption>A matrix: 3 × 2 of type int</caption>\n",
       "<thead>\n",
       "\t<tr><th></th><th scope=col>control</th><th scope=col>case</th></tr>\n",
       "</thead>\n",
       "<tbody>\n",
       "\t<tr><th scope=row>slept on side</th><td>241</td><td>76</td></tr>\n",
       "\t<tr><th scope=row>slept on front</th><td> 24</td><td>30</td></tr>\n",
       "\t<tr><th scope=row>slept on back</th><td>509</td><td>82</td></tr>\n",
       "</tbody>\n",
       "</table>\n"
      ],
      "text/latex": [
       "A matrix: 3 × 2 of type int\n",
       "\\begin{tabular}{r|ll}\n",
       "  & control & case\\\\\n",
       "\\hline\n",
       "\tslept on side & 241 & 76\\\\\n",
       "\tslept on front &  24 & 30\\\\\n",
       "\tslept on back & 509 & 82\\\\\n",
       "\\end{tabular}\n"
      ],
      "text/markdown": [
       "\n",
       "A matrix: 3 × 2 of type int\n",
       "\n",
       "| <!--/--> | control | case |\n",
       "|---|---|---|\n",
       "| slept on side | 241 | 76 |\n",
       "| slept on front |  24 | 30 |\n",
       "| slept on back | 509 | 82 |\n",
       "\n"
      ],
      "text/plain": [
       "               control case\n",
       "slept on side  241     76  \n",
       "slept on front  24     30  \n",
       "slept on back  509     82  "
      ]
     },
     "metadata": {},
     "output_type": "display_data"
    }
   ],
   "source": [
    "(resmat <- sortedres %>%\n",
    "    pull(count) %>%\n",
    "    matrix(nrow = 3, ncol = 2, byrow = TRUE, dimnames = list(labexp, labout)))"
   ]
  },
  {
   "cell_type": "markdown",
   "id": "3b2ccdfa",
   "metadata": {},
   "source": [
    "## Measures of assocation\n",
    "\n",
    "Calculate the **odds ratio**.\n",
    "Note that the _relative risk_ is not defined for a case-control study."
   ]
  },
  {
   "cell_type": "code",
   "execution_count": 5,
   "id": "b84540ee-b852-46f5-9ab0-5a674de84552",
   "metadata": {},
   "outputs": [
    {
     "data": {
      "text/html": [
       "<table class=\"dataframe\">\n",
       "<caption>A matrix: 3 × 4 of type dbl</caption>\n",
       "<thead>\n",
       "\t<tr><th></th><th scope=col>oddsratio</th><th scope=col>stderr</th><th scope=col>lcb</th><th scope=col>ucb</th></tr>\n",
       "</thead>\n",
       "<tbody>\n",
       "\t<tr><th scope=row>exposure 1 (-)</th><td>       NA</td><td>       NA</td><td>      NA</td><td>       NA</td></tr>\n",
       "\t<tr><th scope=row>exposure 2 (+)</th><td>3.9638158</td><td>0.3038211</td><td>1.812335</td><td>8.6693905</td></tr>\n",
       "\t<tr><th scope=row>exposure 3 (+)</th><td>0.5108572</td><td>0.1773895</td><td>0.323489</td><td>0.8067511</td></tr>\n",
       "</tbody>\n",
       "</table>\n"
      ],
      "text/latex": [
       "A matrix: 3 × 4 of type dbl\n",
       "\\begin{tabular}{r|llll}\n",
       "  & oddsratio & stderr & lcb & ucb\\\\\n",
       "\\hline\n",
       "\texposure 1 (-) &        NA &        NA &       NA &        NA\\\\\n",
       "\texposure 2 (+) & 3.9638158 & 0.3038211 & 1.812335 & 8.6693905\\\\\n",
       "\texposure 3 (+) & 0.5108572 & 0.1773895 & 0.323489 & 0.8067511\\\\\n",
       "\\end{tabular}\n"
      ],
      "text/markdown": [
       "\n",
       "A matrix: 3 × 4 of type dbl\n",
       "\n",
       "| <!--/--> | oddsratio | stderr | lcb | ucb |\n",
       "|---|---|---|---|---|\n",
       "| exposure 1 (-) |        NA |        NA |       NA |        NA |\n",
       "| exposure 2 (+) | 3.9638158 | 0.3038211 | 1.812335 | 8.6693905 |\n",
       "| exposure 3 (+) | 0.5108572 | 0.1773895 | 0.323489 | 0.8067511 |\n",
       "\n"
      ],
      "text/plain": [
       "               oddsratio stderr    lcb      ucb      \n",
       "exposure 1 (-)        NA        NA       NA        NA\n",
       "exposure 2 (+) 3.9638158 0.3038211 1.812335 8.6693905\n",
       "exposure 3 (+) 0.5108572 0.1773895 0.323489 0.8067511"
      ]
     },
     "metadata": {},
     "output_type": "display_data"
    }
   ],
   "source": [
    "oddsratio(resmat, alpha = 0.01)"
   ]
  },
  {
   "cell_type": "markdown",
   "id": "0f422be5-7e22-43e2-bbdb-1ae122afd999",
   "metadata": {},
   "source": [
    "This suggests there is a positive association between babies placed to sleep on their fronts and cot deaths: the odds ratio is **3.96**, with 99% confidence interval **(1.81, 8.67)** located well above **1**.\n",
    "Conversely, there is a negative association between babies placed to sleep on their backs and cot deaths: the odds ratio is **0.51**, with 99% confidence interval **(0.18, 0.32)** located well below **1**."
   ]
  },
  {
   "cell_type": "markdown",
   "id": "b4be5ee7",
   "metadata": {},
   "source": [
    "## Strength of evidence of association\n",
    "\n",
    "Perform a chi-squared test of no association."
   ]
  },
  {
   "cell_type": "code",
   "execution_count": 6,
   "id": "92b61c31-4991-41b6-8dcd-05dea2a68036",
   "metadata": {},
   "outputs": [],
   "source": [
    "chi2 <- chisq.test(resmat, correct = FALSE)"
   ]
  },
  {
   "cell_type": "markdown",
   "id": "67832f17-8d99-4846-9585-82b145d4487c",
   "metadata": {},
   "source": [
    "Calculate the expected frequencies under a null hypothesis of no association."
   ]
  },
  {
   "cell_type": "code",
   "execution_count": 7,
   "id": "24bb6b6c-53ef-4a29-96df-9781f4c6cf15",
   "metadata": {},
   "outputs": [
    {
     "data": {
      "text/html": [
       "<table class=\"dataframe\">\n",
       "<caption>A matrix: 3 × 2 of type dbl</caption>\n",
       "<thead>\n",
       "\t<tr><th></th><th scope=col>control</th><th scope=col>case</th></tr>\n",
       "</thead>\n",
       "<tbody>\n",
       "\t<tr><th scope=row>slept on side</th><td>255.04990</td><td> 61.95010</td></tr>\n",
       "\t<tr><th scope=row>slept on front</th><td> 43.44699</td><td> 10.55301</td></tr>\n",
       "\t<tr><th scope=row>slept on back</th><td>475.50312</td><td>115.49688</td></tr>\n",
       "</tbody>\n",
       "</table>\n"
      ],
      "text/latex": [
       "A matrix: 3 × 2 of type dbl\n",
       "\\begin{tabular}{r|ll}\n",
       "  & control & case\\\\\n",
       "\\hline\n",
       "\tslept on side & 255.04990 &  61.95010\\\\\n",
       "\tslept on front &  43.44699 &  10.55301\\\\\n",
       "\tslept on back & 475.50312 & 115.49688\\\\\n",
       "\\end{tabular}\n"
      ],
      "text/markdown": [
       "\n",
       "A matrix: 3 × 2 of type dbl\n",
       "\n",
       "| <!--/--> | control | case |\n",
       "|---|---|---|\n",
       "| slept on side | 255.04990 |  61.95010 |\n",
       "| slept on front |  43.44699 |  10.55301 |\n",
       "| slept on back | 475.50312 | 115.49688 |\n",
       "\n"
      ],
      "text/plain": [
       "               control   case     \n",
       "slept on side  255.04990  61.95010\n",
       "slept on front  43.44699  10.55301\n",
       "slept on back  475.50312 115.49688"
      ]
     },
     "metadata": {},
     "output_type": "display_data"
    }
   ],
   "source": [
    "chi2$expected"
   ]
  },
  {
   "cell_type": "markdown",
   "id": "fd43e9ef-58fe-421a-9590-c379cc329166",
   "metadata": {},
   "source": [
    "The numbers of cases observed are greater than expected for babies placed on their front or side, but much less than expected for those babies placed on the back.\n",
    "This suggests that there might be a positive association between SIDS and placing a baby down on its front or side, and a negative associaition between SIDS and placing a baby down on its back.\n",
    "\n",
    "The null distribution of the test statistic is approximately **chi-squared** with **2** degrees of freedom.\n",
    "Since all expected frequencies are greater than **5**, the approximation is adequate.\n",
    "\n",
    "Contribution of the values to the **chi-squared** test statistic."
   ]
  },
  {
   "cell_type": "code",
   "execution_count": 8,
   "id": "7393a312-df21-4dbb-aa2b-022202718c7b",
   "metadata": {},
   "outputs": [
    {
     "data": {
      "text/html": [
       "<table class=\"dataframe\">\n",
       "<caption>A matrix: 3 × 2 of type dbl</caption>\n",
       "<thead>\n",
       "\t<tr><th></th><th scope=col>control</th><th scope=col>case</th></tr>\n",
       "</thead>\n",
       "<tbody>\n",
       "\t<tr><th scope=row>slept on side</th><td>0.7739646</td><td> 3.186429</td></tr>\n",
       "\t<tr><th scope=row>slept on front</th><td>8.7045221</td><td>35.836702</td></tr>\n",
       "\t<tr><th scope=row>slept on back</th><td>2.3596923</td><td> 9.714904</td></tr>\n",
       "</tbody>\n",
       "</table>\n"
      ],
      "text/latex": [
       "A matrix: 3 × 2 of type dbl\n",
       "\\begin{tabular}{r|ll}\n",
       "  & control & case\\\\\n",
       "\\hline\n",
       "\tslept on side & 0.7739646 &  3.186429\\\\\n",
       "\tslept on front & 8.7045221 & 35.836702\\\\\n",
       "\tslept on back & 2.3596923 &  9.714904\\\\\n",
       "\\end{tabular}\n"
      ],
      "text/markdown": [
       "\n",
       "A matrix: 3 × 2 of type dbl\n",
       "\n",
       "| <!--/--> | control | case |\n",
       "|---|---|---|\n",
       "| slept on side | 0.7739646 |  3.186429 |\n",
       "| slept on front | 8.7045221 | 35.836702 |\n",
       "| slept on back | 2.3596923 |  9.714904 |\n",
       "\n"
      ],
      "text/plain": [
       "               control   case     \n",
       "slept on side  0.7739646  3.186429\n",
       "slept on front 8.7045221 35.836702\n",
       "slept on back  2.3596923  9.714904"
      ]
     },
     "metadata": {},
     "output_type": "display_data"
    }
   ],
   "source": [
    "(chi2$residuals) ** 2"
   ]
  },
  {
   "cell_type": "markdown",
   "id": "6d56b0e2-f970-4af6-b6fd-5f8ace05f52d",
   "metadata": {},
   "source": [
    "Return the test statistic and **p**-value."
   ]
  },
  {
   "cell_type": "code",
   "execution_count": 9,
   "id": "4c84b87f",
   "metadata": {},
   "outputs": [
    {
     "data": {
      "text/plain": [
       "\n",
       "\tPearson's Chi-squared test\n",
       "\n",
       "data:  resmat\n",
       "X-squared = 60.576, df = 2, p-value = 7.015e-14\n"
      ]
     },
     "metadata": {},
     "output_type": "display_data"
    }
   ],
   "source": [
    "chi2"
   ]
  },
  {
   "cell_type": "markdown",
   "id": "0ab7c4ee",
   "metadata": {},
   "source": [
    "The test statistic is approximately **60.58**, with **p**-value less than **0.000000**.\n",
    "There is very strong evidence against the null hypothesis of no association.\n",
    "Hence, there is strong evidence of an associaition between the last placed sleeping position of an infant and cot death.\n",
    "There is evidence of a positive association for babies left to sleep on their front or side, and a negative associaition for those left to sleep on their back."
   ]
  }
 ],
 "metadata": {
  "kernelspec": {
   "display_name": "R 4.1.2",
   "language": "R",
   "name": "ir41"
  },
  "language_info": {
   "codemirror_mode": "r",
   "file_extension": ".r",
   "mimetype": "text/x-r-source",
   "name": "R",
   "pygments_lexer": "r",
   "version": "4.1.2"
  }
 },
 "nbformat": 4,
 "nbformat_minor": 5
}
