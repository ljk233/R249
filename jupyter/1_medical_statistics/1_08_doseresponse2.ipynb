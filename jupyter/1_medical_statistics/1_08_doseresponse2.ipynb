{
 "cells": [
  {
   "cell_type": "markdown",
   "id": "38be3445-2eba-43ae-8037-cad53cc30bcb",
   "metadata": {},
   "source": [
    "# Number of Cigarettes Smoked and Lung Cancer\n",
    "\n",
    "**Date:** 2021-12-01\n",
    "\n",
    "**Reference:** M249, Book 1, Part 2"
   ]
  },
  {
   "cell_type": "code",
   "execution_count": 1,
   "id": "186920e4-519e-4e7f-ba36-2bb5723d5348",
   "metadata": {},
   "outputs": [],
   "source": [
    "suppressPackageStartupMessages(library(tidyverse))\n",
    "library(R249)"
   ]
  },
  {
   "cell_type": "markdown",
   "id": "5269b966-2070-4281-96d1-a9d6cb582c15",
   "metadata": {},
   "source": [
    "## Summary"
   ]
  },
  {
   "cell_type": "markdown",
   "id": "e819f94b-6362-488c-af31-e1c70461118e",
   "metadata": {},
   "source": [
    "## Get the data"
   ]
  },
  {
   "cell_type": "code",
   "execution_count": 2,
   "id": "ae2a7568-130a-4928-a592-19b3a67ed508",
   "metadata": {},
   "outputs": [
    {
     "data": {
      "text/html": [
       "<table class=\"dataframe\">\n",
       "<caption>A tibble: 10 × 3</caption>\n",
       "<thead>\n",
       "\t<tr><th scope=col>count</th><th scope=col>dose</th><th scope=col>outcome</th></tr>\n",
       "\t<tr><th scope=col>&lt;int&gt;</th><th scope=col>&lt;chr&gt;</th><th scope=col>&lt;chr&gt;</th></tr>\n",
       "</thead>\n",
       "<tbody>\n",
       "\t<tr><td> 32</td><td>50+  </td><td>case   </td></tr>\n",
       "\t<tr><td> 13</td><td>50+  </td><td>control</td></tr>\n",
       "\t<tr><td>136</td><td>25-49</td><td>case   </td></tr>\n",
       "\t<tr><td> 71</td><td>25-49</td><td>control</td></tr>\n",
       "\t<tr><td>196</td><td>15-24</td><td>case   </td></tr>\n",
       "\t<tr><td>190</td><td>15-24</td><td>control</td></tr>\n",
       "\t<tr><td>250</td><td>5-14 </td><td>case   </td></tr>\n",
       "\t<tr><td>293</td><td>5-14 </td><td>control</td></tr>\n",
       "\t<tr><td> 35</td><td>0    </td><td>case   </td></tr>\n",
       "\t<tr><td> 82</td><td>0    </td><td>control</td></tr>\n",
       "</tbody>\n",
       "</table>\n"
      ],
      "text/latex": [
       "A tibble: 10 × 3\n",
       "\\begin{tabular}{lll}\n",
       " count & dose & outcome\\\\\n",
       " <int> & <chr> & <chr>\\\\\n",
       "\\hline\n",
       "\t  32 & 50+   & case   \\\\\n",
       "\t  13 & 50+   & control\\\\\n",
       "\t 136 & 25-49 & case   \\\\\n",
       "\t  71 & 25-49 & control\\\\\n",
       "\t 196 & 15-24 & case   \\\\\n",
       "\t 190 & 15-24 & control\\\\\n",
       "\t 250 & 5-14  & case   \\\\\n",
       "\t 293 & 5-14  & control\\\\\n",
       "\t  35 & 0     & case   \\\\\n",
       "\t  82 & 0     & control\\\\\n",
       "\\end{tabular}\n"
      ],
      "text/markdown": [
       "\n",
       "A tibble: 10 × 3\n",
       "\n",
       "| count &lt;int&gt; | dose &lt;chr&gt; | outcome &lt;chr&gt; |\n",
       "|---|---|---|\n",
       "|  32 | 50+   | case    |\n",
       "|  13 | 50+   | control |\n",
       "| 136 | 25-49 | case    |\n",
       "|  71 | 25-49 | control |\n",
       "| 196 | 15-24 | case    |\n",
       "| 190 | 15-24 | control |\n",
       "| 250 | 5-14  | case    |\n",
       "| 293 | 5-14  | control |\n",
       "|  35 | 0     | case    |\n",
       "|  82 | 0     | control |\n",
       "\n"
      ],
      "text/plain": [
       "   count dose  outcome\n",
       "1   32   50+   case   \n",
       "2   13   50+   control\n",
       "3  136   25-49 case   \n",
       "4   71   25-49 control\n",
       "5  196   15-24 case   \n",
       "6  190   15-24 control\n",
       "7  250   5-14  case   \n",
       "8  293   5-14  control\n",
       "9   35   0     case   \n",
       "10  82   0     control"
      ]
     },
     "metadata": {},
     "output_type": "display_data"
    }
   ],
   "source": [
    "(dat <- as_tibble(read.csv(file = \"..\\\\..\\\\data\\\\smoking2.csv\")))"
   ]
  },
  {
   "cell_type": "markdown",
   "id": "21bdfccb-af3c-435d-a438-067c51845e8a",
   "metadata": {},
   "source": [
    "## Prepare the data\n",
    "\n",
    "Cast the `dose`, `outcome` columns to factors."
   ]
  },
  {
   "cell_type": "code",
   "execution_count": 3,
   "id": "64b25c51-a521-44b5-bb71-b052a1a8780f",
   "metadata": {},
   "outputs": [
    {
     "data": {
      "text/html": [
       "<table class=\"dataframe\">\n",
       "<caption>A tibble: 10 × 3</caption>\n",
       "<thead>\n",
       "\t<tr><th scope=col>count</th><th scope=col>dose</th><th scope=col>outcome</th></tr>\n",
       "\t<tr><th scope=col>&lt;int&gt;</th><th scope=col>&lt;fct&gt;</th><th scope=col>&lt;fct&gt;</th></tr>\n",
       "</thead>\n",
       "<tbody>\n",
       "\t<tr><td> 82</td><td>0    </td><td>control</td></tr>\n",
       "\t<tr><td> 35</td><td>0    </td><td>case   </td></tr>\n",
       "\t<tr><td>293</td><td>5-14 </td><td>control</td></tr>\n",
       "\t<tr><td>250</td><td>5-14 </td><td>case   </td></tr>\n",
       "\t<tr><td>190</td><td>15-24</td><td>control</td></tr>\n",
       "\t<tr><td>196</td><td>15-24</td><td>case   </td></tr>\n",
       "\t<tr><td> 71</td><td>25-49</td><td>control</td></tr>\n",
       "\t<tr><td>136</td><td>25-49</td><td>case   </td></tr>\n",
       "\t<tr><td> 13</td><td>50+  </td><td>control</td></tr>\n",
       "\t<tr><td> 32</td><td>50+  </td><td>case   </td></tr>\n",
       "</tbody>\n",
       "</table>\n"
      ],
      "text/latex": [
       "A tibble: 10 × 3\n",
       "\\begin{tabular}{lll}\n",
       " count & dose & outcome\\\\\n",
       " <int> & <fct> & <fct>\\\\\n",
       "\\hline\n",
       "\t  82 & 0     & control\\\\\n",
       "\t  35 & 0     & case   \\\\\n",
       "\t 293 & 5-14  & control\\\\\n",
       "\t 250 & 5-14  & case   \\\\\n",
       "\t 190 & 15-24 & control\\\\\n",
       "\t 196 & 15-24 & case   \\\\\n",
       "\t  71 & 25-49 & control\\\\\n",
       "\t 136 & 25-49 & case   \\\\\n",
       "\t  13 & 50+   & control\\\\\n",
       "\t  32 & 50+   & case   \\\\\n",
       "\\end{tabular}\n"
      ],
      "text/markdown": [
       "\n",
       "A tibble: 10 × 3\n",
       "\n",
       "| count &lt;int&gt; | dose &lt;fct&gt; | outcome &lt;fct&gt; |\n",
       "|---|---|---|\n",
       "|  82 | 0     | control |\n",
       "|  35 | 0     | case    |\n",
       "| 293 | 5-14  | control |\n",
       "| 250 | 5-14  | case    |\n",
       "| 190 | 15-24 | control |\n",
       "| 196 | 15-24 | case    |\n",
       "|  71 | 25-49 | control |\n",
       "| 136 | 25-49 | case    |\n",
       "|  13 | 50+   | control |\n",
       "|  32 | 50+   | case    |\n",
       "\n"
      ],
      "text/plain": [
       "   count dose  outcome\n",
       "1   82   0     control\n",
       "2   35   0     case   \n",
       "3  293   5-14  control\n",
       "4  250   5-14  case   \n",
       "5  190   15-24 control\n",
       "6  196   15-24 case   \n",
       "7   71   25-49 control\n",
       "8  136   25-49 case   \n",
       "9   13   50+   control\n",
       "10  32   50+   case   "
      ]
     },
     "metadata": {},
     "output_type": "display_data"
    }
   ],
   "source": [
    "labdose <- c(\"0\", \"5-14\", \"15-24\", \"25-49\", \"50+\")\n",
    "labout <- c(\"control\", \"case\")\n",
    "(sorteddat <- dat %>%\n",
    "    mutate(dose = factor(dat$dose, labdose)) %>%\n",
    "    mutate(outcome = factor(dat$outcome, labout)) %>%\n",
    "    arrange(dose, outcome))"
   ]
  },
  {
   "cell_type": "markdown",
   "id": "41960160-b605-4e66-a0a4-e130ff6d1ad5",
   "metadata": {},
   "source": [
    "Pull the `count` column as a vector and initilise a matrix."
   ]
  },
  {
   "cell_type": "code",
   "execution_count": 4,
   "id": "aa3f1ef0-cc52-4d74-9a71-29b80ee2d076",
   "metadata": {},
   "outputs": [
    {
     "data": {
      "text/html": [
       "<table class=\"dataframe\">\n",
       "<caption>A matrix: 5 × 2 of type int</caption>\n",
       "<thead>\n",
       "\t<tr><th></th><th scope=col>control</th><th scope=col>case</th></tr>\n",
       "</thead>\n",
       "<tbody>\n",
       "\t<tr><th scope=row>0</th><td> 82</td><td> 35</td></tr>\n",
       "\t<tr><th scope=row>5-14</th><td>293</td><td>250</td></tr>\n",
       "\t<tr><th scope=row>15-24</th><td>190</td><td>196</td></tr>\n",
       "\t<tr><th scope=row>25-49</th><td> 71</td><td>136</td></tr>\n",
       "\t<tr><th scope=row>50+</th><td> 13</td><td> 32</td></tr>\n",
       "</tbody>\n",
       "</table>\n"
      ],
      "text/latex": [
       "A matrix: 5 × 2 of type int\n",
       "\\begin{tabular}{r|ll}\n",
       "  & control & case\\\\\n",
       "\\hline\n",
       "\t0 &  82 &  35\\\\\n",
       "\t5-14 & 293 & 250\\\\\n",
       "\t15-24 & 190 & 196\\\\\n",
       "\t25-49 &  71 & 136\\\\\n",
       "\t50+ &  13 &  32\\\\\n",
       "\\end{tabular}\n"
      ],
      "text/markdown": [
       "\n",
       "A matrix: 5 × 2 of type int\n",
       "\n",
       "| <!--/--> | control | case |\n",
       "|---|---|---|\n",
       "| 0 |  82 |  35 |\n",
       "| 5-14 | 293 | 250 |\n",
       "| 15-24 | 190 | 196 |\n",
       "| 25-49 |  71 | 136 |\n",
       "| 50+ |  13 |  32 |\n",
       "\n"
      ],
      "text/plain": [
       "      control case\n",
       "0      82      35 \n",
       "5-14  293     250 \n",
       "15-24 190     196 \n",
       "25-49  71     136 \n",
       "50+    13      32 "
      ]
     },
     "metadata": {},
     "output_type": "display_data"
    }
   ],
   "source": [
    "datmat <- sorteddat$count %>%\n",
    "    matrix(nrow = 5, ncol = 2, byrow = TRUE, dimnames = list(labdose, labout))\n",
    "datmat"
   ]
  },
  {
   "cell_type": "markdown",
   "id": "32a9236d-5126-4b8a-b605-b4f7de259cf3",
   "metadata": {},
   "source": [
    "## Dose-specific odds\n",
    "\n",
    "Calculate the odds and log(odds) of each dose."
   ]
  },
  {
   "cell_type": "code",
   "execution_count": 5,
   "id": "3365da65-56a7-4a35-b3fc-5105610655bf",
   "metadata": {},
   "outputs": [
    {
     "data": {
      "text/html": [
       "<table class=\"dataframe\">\n",
       "<caption>A matrix: 5 × 2 of type dbl</caption>\n",
       "<thead>\n",
       "\t<tr><th></th><th scope=col>odds</th><th scope=col>log(odds)</th></tr>\n",
       "</thead>\n",
       "<tbody>\n",
       "\t<tr><th scope=row>0</th><td>       NA</td><td>         NA</td></tr>\n",
       "\t<tr><th scope=row>5-14</th><td>0.8532423</td><td>-0.15871169</td></tr>\n",
       "\t<tr><th scope=row>15-24</th><td>1.0315789</td><td> 0.03109059</td></tr>\n",
       "\t<tr><th scope=row>25-49</th><td>1.9154930</td><td> 0.64997501</td></tr>\n",
       "\t<tr><th scope=row>50+</th><td>2.4615385</td><td> 0.90078655</td></tr>\n",
       "</tbody>\n",
       "</table>\n"
      ],
      "text/latex": [
       "A matrix: 5 × 2 of type dbl\n",
       "\\begin{tabular}{r|ll}\n",
       "  & odds & log(odds)\\\\\n",
       "\\hline\n",
       "\t0 &        NA &          NA\\\\\n",
       "\t5-14 & 0.8532423 & -0.15871169\\\\\n",
       "\t15-24 & 1.0315789 &  0.03109059\\\\\n",
       "\t25-49 & 1.9154930 &  0.64997501\\\\\n",
       "\t50+ & 2.4615385 &  0.90078655\\\\\n",
       "\\end{tabular}\n"
      ],
      "text/markdown": [
       "\n",
       "A matrix: 5 × 2 of type dbl\n",
       "\n",
       "| <!--/--> | odds | log(odds) |\n",
       "|---|---|---|\n",
       "| 0 |        NA |          NA |\n",
       "| 5-14 | 0.8532423 | -0.15871169 |\n",
       "| 15-24 | 1.0315789 |  0.03109059 |\n",
       "| 25-49 | 1.9154930 |  0.64997501 |\n",
       "| 50+ | 2.4615385 |  0.90078655 |\n",
       "\n"
      ],
      "text/plain": [
       "      odds      log(odds)  \n",
       "0            NA          NA\n",
       "5-14  0.8532423 -0.15871169\n",
       "15-24 1.0315789  0.03109059\n",
       "25-49 1.9154930  0.64997501\n",
       "50+   2.4615385  0.90078655"
      ]
     },
     "metadata": {},
     "output_type": "display_data"
    }
   ],
   "source": [
    "odds(datmat)"
   ]
  },
  {
   "cell_type": "markdown",
   "id": "345cd9f7-fa73-4b62-9044-0d2177faf2c7",
   "metadata": {},
   "source": [
    "## Dose-specific odds ratios\n",
    "\n",
    "Calculate the dose-specific odds ratio for each dose."
   ]
  },
  {
   "cell_type": "code",
   "execution_count": 6,
   "id": "16768ecc-dde8-4903-a59d-d4ab925f5998",
   "metadata": {},
   "outputs": [
    {
     "data": {
      "text/html": [
       "<table class=\"dataframe\">\n",
       "<caption>A matrix: 5 × 4 of type dbl</caption>\n",
       "<thead>\n",
       "\t<tr><th></th><th scope=col>oddsratio</th><th scope=col>stderr</th><th scope=col>lcb</th><th scope=col>ucb</th></tr>\n",
       "</thead>\n",
       "<tbody>\n",
       "\t<tr><th scope=row>0</th><td>      NA</td><td>       NA</td><td>      NA</td><td>       NA</td></tr>\n",
       "\t<tr><th scope=row>5-14</th><td>1.999025</td><td>0.2194983</td><td>1.300112</td><td> 3.073658</td></tr>\n",
       "\t<tr><th scope=row>15-24</th><td>2.416842</td><td>0.2261233</td><td>1.551571</td><td> 3.764652</td></tr>\n",
       "\t<tr><th scope=row>25-49</th><td>4.487726</td><td>0.2494073</td><td>2.752520</td><td> 7.316818</td></tr>\n",
       "\t<tr><th scope=row>50+</th><td>5.767033</td><td>0.3859270</td><td>2.706767</td><td>12.287232</td></tr>\n",
       "</tbody>\n",
       "</table>\n"
      ],
      "text/latex": [
       "A matrix: 5 × 4 of type dbl\n",
       "\\begin{tabular}{r|llll}\n",
       "  & oddsratio & stderr & lcb & ucb\\\\\n",
       "\\hline\n",
       "\t0 &       NA &        NA &       NA &        NA\\\\\n",
       "\t5-14 & 1.999025 & 0.2194983 & 1.300112 &  3.073658\\\\\n",
       "\t15-24 & 2.416842 & 0.2261233 & 1.551571 &  3.764652\\\\\n",
       "\t25-49 & 4.487726 & 0.2494073 & 2.752520 &  7.316818\\\\\n",
       "\t50+ & 5.767033 & 0.3859270 & 2.706767 & 12.287232\\\\\n",
       "\\end{tabular}\n"
      ],
      "text/markdown": [
       "\n",
       "A matrix: 5 × 4 of type dbl\n",
       "\n",
       "| <!--/--> | oddsratio | stderr | lcb | ucb |\n",
       "|---|---|---|---|---|\n",
       "| 0 |       NA |        NA |       NA |        NA |\n",
       "| 5-14 | 1.999025 | 0.2194983 | 1.300112 |  3.073658 |\n",
       "| 15-24 | 2.416842 | 0.2261233 | 1.551571 |  3.764652 |\n",
       "| 25-49 | 4.487726 | 0.2494073 | 2.752520 |  7.316818 |\n",
       "| 50+ | 5.767033 | 0.3859270 | 2.706767 | 12.287232 |\n",
       "\n"
      ],
      "text/plain": [
       "      oddsratio stderr    lcb      ucb      \n",
       "0           NA         NA       NA        NA\n",
       "5-14  1.999025  0.2194983 1.300112  3.073658\n",
       "15-24 2.416842  0.2261233 1.551571  3.764652\n",
       "25-49 4.487726  0.2494073 2.752520  7.316818\n",
       "50+   5.767033  0.3859270 2.706767 12.287232"
      ]
     },
     "metadata": {},
     "output_type": "display_data"
    }
   ],
   "source": [
    "oddsratio(datmat)"
   ]
  },
  {
   "cell_type": "markdown",
   "id": "ed9fe35a-569c-45af-bd5a-17dec7c236e4",
   "metadata": {},
   "source": [
    "## Chi-squared test for no linear trend"
   ]
  },
  {
   "cell_type": "code",
   "execution_count": 7,
   "id": "b2134e7a-2b00-44bf-b17c-175ec366b1d6",
   "metadata": {},
   "outputs": [
    {
     "data": {
      "text/html": [
       "<table class=\"dataframe\">\n",
       "<caption>A matrix: 1 × 2 of type dbl</caption>\n",
       "<thead>\n",
       "\t<tr><th></th><th scope=col>chisq</th><th scope=col>pval</th></tr>\n",
       "</thead>\n",
       "<tbody>\n",
       "\t<tr><th scope=row>result</th><td>43.83024</td><td>3.581287e-11</td></tr>\n",
       "</tbody>\n",
       "</table>\n"
      ],
      "text/latex": [
       "A matrix: 1 × 2 of type dbl\n",
       "\\begin{tabular}{r|ll}\n",
       "  & chisq & pval\\\\\n",
       "\\hline\n",
       "\tresult & 43.83024 & 3.581287e-11\\\\\n",
       "\\end{tabular}\n"
      ],
      "text/markdown": [
       "\n",
       "A matrix: 1 × 2 of type dbl\n",
       "\n",
       "| <!--/--> | chisq | pval |\n",
       "|---|---|---|\n",
       "| result | 43.83024 | 3.581287e-11 |\n",
       "\n"
      ],
      "text/plain": [
       "       chisq    pval        \n",
       "result 43.83024 3.581287e-11"
      ]
     },
     "metadata": {},
     "output_type": "display_data"
    }
   ],
   "source": [
    "chisq_lineartrend(datmat)"
   ]
  }
 ],
 "metadata": {
  "kernelspec": {
   "display_name": "R 4.1.2",
   "language": "R",
   "name": "ir41"
  },
  "language_info": {
   "codemirror_mode": "r",
   "file_extension": ".r",
   "mimetype": "text/x-r-source",
   "name": "R",
   "pygments_lexer": "r",
   "version": "4.1.2"
  }
 },
 "nbformat": 4,
 "nbformat_minor": 5
}
