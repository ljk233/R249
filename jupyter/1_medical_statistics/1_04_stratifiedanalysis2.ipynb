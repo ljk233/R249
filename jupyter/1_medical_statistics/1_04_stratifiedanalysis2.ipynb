{
 "cells": [
  {
   "cell_type": "markdown",
   "id": "38be3445-2eba-43ae-8037-cad53cc30bcb",
   "metadata": {},
   "source": [
    "# Water fluoridation and Dental Caries\n",
    "\n",
    "**Date:** 2021-12-01\n",
    "\n",
    "**Reference:** M249, Book 1, Part 2"
   ]
  },
  {
   "cell_type": "code",
   "execution_count": 1,
   "id": "186920e4-519e-4e7f-ba36-2bb5723d5348",
   "metadata": {},
   "outputs": [],
   "source": [
    "suppressPackageStartupMessages(library(tidyverse))\n",
    "library(R249)\n",
    "library(DescTools)"
   ]
  },
  {
   "cell_type": "markdown",
   "id": "5269b966-2070-4281-96d1-a9d6cb582c15",
   "metadata": {},
   "source": [
    "## Summary"
   ]
  },
  {
   "cell_type": "markdown",
   "id": "e819f94b-6362-488c-af31-e1c70461118e",
   "metadata": {},
   "source": [
    "## Get the data"
   ]
  },
  {
   "cell_type": "code",
   "execution_count": 2,
   "id": "ae2a7568-130a-4928-a592-19b3a67ed508",
   "metadata": {},
   "outputs": [
    {
     "data": {
      "text/html": [
       "<table class=\"dataframe\">\n",
       "<caption>A tibble: 16 × 4</caption>\n",
       "<thead>\n",
       "\t<tr><th scope=col>count</th><th scope=col>exposure</th><th scope=col>outcome</th><th scope=col>level</th></tr>\n",
       "\t<tr><th scope=col>&lt;int&gt;</th><th scope=col>&lt;chr&gt;</th><th scope=col>&lt;chr&gt;</th><th scope=col>&lt;chr&gt;</th></tr>\n",
       "</thead>\n",
       "<tbody>\n",
       "\t<tr><td> 5</td><td>fluoridated    </td><td>caries   </td><td>age 8 years    </td></tr>\n",
       "\t<tr><td>25</td><td>fluoridated    </td><td>no caries</td><td>age 8 years    </td></tr>\n",
       "\t<tr><td> 8</td><td>not fluoridated</td><td>caries   </td><td>age 8 years    </td></tr>\n",
       "\t<tr><td>23</td><td>not fluoridated</td><td>no caries</td><td>age 8 years    </td></tr>\n",
       "\t<tr><td> 0</td><td>fluoridated    </td><td>caries   </td><td>age 9 years    </td></tr>\n",
       "\t<tr><td>17</td><td>fluoridated    </td><td>no caries</td><td>age 9 years    </td></tr>\n",
       "\t<tr><td>17</td><td>not fluoridated</td><td>caries   </td><td>age 9 years    </td></tr>\n",
       "\t<tr><td>33</td><td>not fluoridated</td><td>no caries</td><td>age 9 years    </td></tr>\n",
       "\t<tr><td> 5</td><td>fluoridated    </td><td>caries   </td><td>age 10 years   </td></tr>\n",
       "\t<tr><td>13</td><td>fluoridated    </td><td>no caries</td><td>age 10 years   </td></tr>\n",
       "\t<tr><td>24</td><td>not fluoridated</td><td>caries   </td><td>age 10 years   </td></tr>\n",
       "\t<tr><td>14</td><td>not fluoridated</td><td>no caries</td><td>age 10 years   </td></tr>\n",
       "\t<tr><td> 5</td><td>fluoridated    </td><td>caries   </td><td>age 11-12 years</td></tr>\n",
       "\t<tr><td>16</td><td>fluoridated    </td><td>no caries</td><td>age 11-12 years</td></tr>\n",
       "\t<tr><td>29</td><td>not fluoridated</td><td>caries   </td><td>age 11-12 years</td></tr>\n",
       "\t<tr><td>25</td><td>not fluoridated</td><td>no caries</td><td>age 11-12 years</td></tr>\n",
       "</tbody>\n",
       "</table>\n"
      ],
      "text/latex": [
       "A tibble: 16 × 4\n",
       "\\begin{tabular}{llll}\n",
       " count & exposure & outcome & level\\\\\n",
       " <int> & <chr> & <chr> & <chr>\\\\\n",
       "\\hline\n",
       "\t  5 & fluoridated     & caries    & age 8 years    \\\\\n",
       "\t 25 & fluoridated     & no caries & age 8 years    \\\\\n",
       "\t  8 & not fluoridated & caries    & age 8 years    \\\\\n",
       "\t 23 & not fluoridated & no caries & age 8 years    \\\\\n",
       "\t  0 & fluoridated     & caries    & age 9 years    \\\\\n",
       "\t 17 & fluoridated     & no caries & age 9 years    \\\\\n",
       "\t 17 & not fluoridated & caries    & age 9 years    \\\\\n",
       "\t 33 & not fluoridated & no caries & age 9 years    \\\\\n",
       "\t  5 & fluoridated     & caries    & age 10 years   \\\\\n",
       "\t 13 & fluoridated     & no caries & age 10 years   \\\\\n",
       "\t 24 & not fluoridated & caries    & age 10 years   \\\\\n",
       "\t 14 & not fluoridated & no caries & age 10 years   \\\\\n",
       "\t  5 & fluoridated     & caries    & age 11-12 years\\\\\n",
       "\t 16 & fluoridated     & no caries & age 11-12 years\\\\\n",
       "\t 29 & not fluoridated & caries    & age 11-12 years\\\\\n",
       "\t 25 & not fluoridated & no caries & age 11-12 years\\\\\n",
       "\\end{tabular}\n"
      ],
      "text/markdown": [
       "\n",
       "A tibble: 16 × 4\n",
       "\n",
       "| count &lt;int&gt; | exposure &lt;chr&gt; | outcome &lt;chr&gt; | level &lt;chr&gt; |\n",
       "|---|---|---|---|\n",
       "|  5 | fluoridated     | caries    | age 8 years     |\n",
       "| 25 | fluoridated     | no caries | age 8 years     |\n",
       "|  8 | not fluoridated | caries    | age 8 years     |\n",
       "| 23 | not fluoridated | no caries | age 8 years     |\n",
       "|  0 | fluoridated     | caries    | age 9 years     |\n",
       "| 17 | fluoridated     | no caries | age 9 years     |\n",
       "| 17 | not fluoridated | caries    | age 9 years     |\n",
       "| 33 | not fluoridated | no caries | age 9 years     |\n",
       "|  5 | fluoridated     | caries    | age 10 years    |\n",
       "| 13 | fluoridated     | no caries | age 10 years    |\n",
       "| 24 | not fluoridated | caries    | age 10 years    |\n",
       "| 14 | not fluoridated | no caries | age 10 years    |\n",
       "|  5 | fluoridated     | caries    | age 11-12 years |\n",
       "| 16 | fluoridated     | no caries | age 11-12 years |\n",
       "| 29 | not fluoridated | caries    | age 11-12 years |\n",
       "| 25 | not fluoridated | no caries | age 11-12 years |\n",
       "\n"
      ],
      "text/plain": [
       "   count exposure        outcome   level          \n",
       "1   5    fluoridated     caries    age 8 years    \n",
       "2  25    fluoridated     no caries age 8 years    \n",
       "3   8    not fluoridated caries    age 8 years    \n",
       "4  23    not fluoridated no caries age 8 years    \n",
       "5   0    fluoridated     caries    age 9 years    \n",
       "6  17    fluoridated     no caries age 9 years    \n",
       "7  17    not fluoridated caries    age 9 years    \n",
       "8  33    not fluoridated no caries age 9 years    \n",
       "9   5    fluoridated     caries    age 10 years   \n",
       "10 13    fluoridated     no caries age 10 years   \n",
       "11 24    not fluoridated caries    age 10 years   \n",
       "12 14    not fluoridated no caries age 10 years   \n",
       "13  5    fluoridated     caries    age 11-12 years\n",
       "14 16    fluoridated     no caries age 11-12 years\n",
       "15 29    not fluoridated caries    age 11-12 years\n",
       "16 25    not fluoridated no caries age 11-12 years"
      ]
     },
     "metadata": {},
     "output_type": "display_data"
    }
   ],
   "source": [
    "(dat <- as_tibble(read.csv(file = \"..\\\\..\\\\data\\\\dentalcaries.csv\")))"
   ]
  },
  {
   "cell_type": "markdown",
   "id": "21bdfccb-af3c-435d-a438-067c51845e8a",
   "metadata": {},
   "source": [
    "## Prepare the data\n",
    "\n",
    "Cast the `exposure`, `outcome`, `level` columns to factors."
   ]
  },
  {
   "cell_type": "code",
   "execution_count": 4,
   "id": "64b25c51-a521-44b5-bb71-b052a1a8780f",
   "metadata": {},
   "outputs": [
    {
     "data": {
      "text/html": [
       "<table class=\"dataframe\">\n",
       "<caption>A tibble: 16 × 4</caption>\n",
       "<thead>\n",
       "\t<tr><th scope=col>count</th><th scope=col>exposure</th><th scope=col>outcome</th><th scope=col>level</th></tr>\n",
       "\t<tr><th scope=col>&lt;int&gt;</th><th scope=col>&lt;fct&gt;</th><th scope=col>&lt;fct&gt;</th><th scope=col>&lt;fct&gt;</th></tr>\n",
       "</thead>\n",
       "<tbody>\n",
       "\t<tr><td> 8</td><td>not fluoridated</td><td>caries   </td><td>age 8 years    </td></tr>\n",
       "\t<tr><td>23</td><td>not fluoridated</td><td>no caries</td><td>age 8 years    </td></tr>\n",
       "\t<tr><td> 5</td><td>fluoridated    </td><td>caries   </td><td>age 8 years    </td></tr>\n",
       "\t<tr><td>25</td><td>fluoridated    </td><td>no caries</td><td>age 8 years    </td></tr>\n",
       "\t<tr><td>17</td><td>not fluoridated</td><td>caries   </td><td>age 9 years    </td></tr>\n",
       "\t<tr><td>33</td><td>not fluoridated</td><td>no caries</td><td>age 9 years    </td></tr>\n",
       "\t<tr><td> 0</td><td>fluoridated    </td><td>caries   </td><td>age 9 years    </td></tr>\n",
       "\t<tr><td>17</td><td>fluoridated    </td><td>no caries</td><td>age 9 years    </td></tr>\n",
       "\t<tr><td>24</td><td>not fluoridated</td><td>caries   </td><td>age 10 years   </td></tr>\n",
       "\t<tr><td>14</td><td>not fluoridated</td><td>no caries</td><td>age 10 years   </td></tr>\n",
       "\t<tr><td> 5</td><td>fluoridated    </td><td>caries   </td><td>age 10 years   </td></tr>\n",
       "\t<tr><td>13</td><td>fluoridated    </td><td>no caries</td><td>age 10 years   </td></tr>\n",
       "\t<tr><td>29</td><td>not fluoridated</td><td>caries   </td><td>age 11-12 years</td></tr>\n",
       "\t<tr><td>25</td><td>not fluoridated</td><td>no caries</td><td>age 11-12 years</td></tr>\n",
       "\t<tr><td> 5</td><td>fluoridated    </td><td>caries   </td><td>age 11-12 years</td></tr>\n",
       "\t<tr><td>16</td><td>fluoridated    </td><td>no caries</td><td>age 11-12 years</td></tr>\n",
       "</tbody>\n",
       "</table>\n"
      ],
      "text/latex": [
       "A tibble: 16 × 4\n",
       "\\begin{tabular}{llll}\n",
       " count & exposure & outcome & level\\\\\n",
       " <int> & <fct> & <fct> & <fct>\\\\\n",
       "\\hline\n",
       "\t  8 & not fluoridated & caries    & age 8 years    \\\\\n",
       "\t 23 & not fluoridated & no caries & age 8 years    \\\\\n",
       "\t  5 & fluoridated     & caries    & age 8 years    \\\\\n",
       "\t 25 & fluoridated     & no caries & age 8 years    \\\\\n",
       "\t 17 & not fluoridated & caries    & age 9 years    \\\\\n",
       "\t 33 & not fluoridated & no caries & age 9 years    \\\\\n",
       "\t  0 & fluoridated     & caries    & age 9 years    \\\\\n",
       "\t 17 & fluoridated     & no caries & age 9 years    \\\\\n",
       "\t 24 & not fluoridated & caries    & age 10 years   \\\\\n",
       "\t 14 & not fluoridated & no caries & age 10 years   \\\\\n",
       "\t  5 & fluoridated     & caries    & age 10 years   \\\\\n",
       "\t 13 & fluoridated     & no caries & age 10 years   \\\\\n",
       "\t 29 & not fluoridated & caries    & age 11-12 years\\\\\n",
       "\t 25 & not fluoridated & no caries & age 11-12 years\\\\\n",
       "\t  5 & fluoridated     & caries    & age 11-12 years\\\\\n",
       "\t 16 & fluoridated     & no caries & age 11-12 years\\\\\n",
       "\\end{tabular}\n"
      ],
      "text/markdown": [
       "\n",
       "A tibble: 16 × 4\n",
       "\n",
       "| count &lt;int&gt; | exposure &lt;fct&gt; | outcome &lt;fct&gt; | level &lt;fct&gt; |\n",
       "|---|---|---|---|\n",
       "|  8 | not fluoridated | caries    | age 8 years     |\n",
       "| 23 | not fluoridated | no caries | age 8 years     |\n",
       "|  5 | fluoridated     | caries    | age 8 years     |\n",
       "| 25 | fluoridated     | no caries | age 8 years     |\n",
       "| 17 | not fluoridated | caries    | age 9 years     |\n",
       "| 33 | not fluoridated | no caries | age 9 years     |\n",
       "|  0 | fluoridated     | caries    | age 9 years     |\n",
       "| 17 | fluoridated     | no caries | age 9 years     |\n",
       "| 24 | not fluoridated | caries    | age 10 years    |\n",
       "| 14 | not fluoridated | no caries | age 10 years    |\n",
       "|  5 | fluoridated     | caries    | age 10 years    |\n",
       "| 13 | fluoridated     | no caries | age 10 years    |\n",
       "| 29 | not fluoridated | caries    | age 11-12 years |\n",
       "| 25 | not fluoridated | no caries | age 11-12 years |\n",
       "|  5 | fluoridated     | caries    | age 11-12 years |\n",
       "| 16 | fluoridated     | no caries | age 11-12 years |\n",
       "\n"
      ],
      "text/plain": [
       "   count exposure        outcome   level          \n",
       "1   8    not fluoridated caries    age 8 years    \n",
       "2  23    not fluoridated no caries age 8 years    \n",
       "3   5    fluoridated     caries    age 8 years    \n",
       "4  25    fluoridated     no caries age 8 years    \n",
       "5  17    not fluoridated caries    age 9 years    \n",
       "6  33    not fluoridated no caries age 9 years    \n",
       "7   0    fluoridated     caries    age 9 years    \n",
       "8  17    fluoridated     no caries age 9 years    \n",
       "9  24    not fluoridated caries    age 10 years   \n",
       "10 14    not fluoridated no caries age 10 years   \n",
       "11  5    fluoridated     caries    age 10 years   \n",
       "12 13    fluoridated     no caries age 10 years   \n",
       "13 29    not fluoridated caries    age 11-12 years\n",
       "14 25    not fluoridated no caries age 11-12 years\n",
       "15  5    fluoridated     caries    age 11-12 years\n",
       "16 16    fluoridated     no caries age 11-12 years"
      ]
     },
     "metadata": {},
     "output_type": "display_data"
    }
   ],
   "source": [
    "labexp <- c(\"not fluoridated\", \"fluoridated\")\n",
    "labout <- c(\"caries\", \"no caries\")\n",
    "lablev <- c(\"age 8 years\", \"age 9 years\", \"age 10 years\", \"age 11-12 years\")\n",
    "(sorteddat <- dat %>%\n",
    "    mutate(exposure = factor(dat$exposure, labexp)) %>%\n",
    "    mutate(outcome = factor(dat$outcome, labout)) %>%\n",
    "    mutate(level = factor(dat$level, lablev)) %>%\n",
    "    arrange(level, exposure, outcome))"
   ]
  },
  {
   "cell_type": "markdown",
   "id": "41960160-b605-4e66-a0a4-e130ff6d1ad5",
   "metadata": {},
   "source": [
    "Filter the tibble on each specific `level`, pull the `count` column as a vector and initilise a matrix.\n",
    "Append this new matrix to an array."
   ]
  },
  {
   "cell_type": "code",
   "execution_count": 5,
   "id": "aa3f1ef0-cc52-4d74-9a71-29b80ee2d076",
   "metadata": {},
   "outputs": [
    {
     "name": "stdout",
     "output_type": "stream",
     "text": [
      ", , age 8 years\n",
      "\n",
      "                caries no caries\n",
      "not fluoridated      8        23\n",
      "fluoridated          5        25\n",
      "\n",
      ", , age 9 years\n",
      "\n",
      "                caries no caries\n",
      "not fluoridated     17        33\n",
      "fluoridated          0        17\n",
      "\n",
      ", , age 10 years\n",
      "\n",
      "                caries no caries\n",
      "not fluoridated     24        14\n",
      "fluoridated          5        13\n",
      "\n",
      ", , age 11-12 years\n",
      "\n",
      "                caries no caries\n",
      "not fluoridated     29        25\n",
      "fluoridated          5        16\n",
      "\n"
     ]
    }
   ],
   "source": [
    "age8 <- filter(sorteddat, level == \"age 8 years\") %>%\n",
    "    pull(count) %>%\n",
    "    matrix(nrow = 2, ncol = 2, byrow = TRUE, dimnames = list(labexp, labout))\n",
    "age9 <- filter(sorteddat, level == \"age 9 years\") %>%\n",
    "    pull(count) %>%\n",
    "    matrix(nrow = 2, ncol = 2, byrow = TRUE, dimnames = list(labexp, labout))\n",
    "age10 <- filter(sorteddat, level == \"age 10 years\") %>%\n",
    "    pull(count) %>%\n",
    "    matrix(nrow = 2, ncol = 2, byrow = TRUE, dimnames = list(labexp, labout))\n",
    "age11_12 <- filter(sorteddat, level == \"age 11-12 years\") %>%\n",
    "    pull(count) %>%\n",
    "    matrix(nrow = 2, ncol = 2, byrow = TRUE, dimnames = list(labexp, labout))\n",
    "datarr <- array(\n",
    "    c(age8, age9, age10, age11_12),\n",
    "    dim = c(2, 2, 4),\n",
    "    dimnames = list(labexp, labout, lablev)\n",
    ")\n",
    "print(datarr)"
   ]
  },
  {
   "cell_type": "markdown",
   "id": "32a9236d-5126-4b8a-b605-b4f7de259cf3",
   "metadata": {},
   "source": [
    "## Stratum-specific odds ratios\n",
    "\n",
    "Calculate the stratum-specific odds ratio.\n",
    "\n",
    "Note, we do not calculate the stratum-specific odds ratio for level age 9 years, given the presence of the 0 count."
   ]
  },
  {
   "cell_type": "code",
   "execution_count": 6,
   "id": "3365da65-56a7-4a35-b3fc-5105610655bf",
   "metadata": {},
   "outputs": [
    {
     "data": {
      "text/html": [
       "<table class=\"dataframe\">\n",
       "<caption>A matrix: 2 × 4 of type dbl</caption>\n",
       "<thead>\n",
       "\t<tr><th></th><th scope=col>oddsratio</th><th scope=col>stderr</th><th scope=col>lcb</th><th scope=col>ucb</th></tr>\n",
       "</thead>\n",
       "<tbody>\n",
       "\t<tr><th scope=row>exposure 1 (-)</th><td>     NA</td><td>      NA</td><td>       NA</td><td>      NA</td></tr>\n",
       "\t<tr><th scope=row>exposure 2 (+)</th><td>1.73913</td><td>0.639123</td><td>0.4969465</td><td>6.086318</td></tr>\n",
       "</tbody>\n",
       "</table>\n"
      ],
      "text/latex": [
       "A matrix: 2 × 4 of type dbl\n",
       "\\begin{tabular}{r|llll}\n",
       "  & oddsratio & stderr & lcb & ucb\\\\\n",
       "\\hline\n",
       "\texposure 1 (-) &      NA &       NA &        NA &       NA\\\\\n",
       "\texposure 2 (+) & 1.73913 & 0.639123 & 0.4969465 & 6.086318\\\\\n",
       "\\end{tabular}\n"
      ],
      "text/markdown": [
       "\n",
       "A matrix: 2 × 4 of type dbl\n",
       "\n",
       "| <!--/--> | oddsratio | stderr | lcb | ucb |\n",
       "|---|---|---|---|---|\n",
       "| exposure 1 (-) |      NA |       NA |        NA |       NA |\n",
       "| exposure 2 (+) | 1.73913 | 0.639123 | 0.4969465 | 6.086318 |\n",
       "\n"
      ],
      "text/plain": [
       "               oddsratio stderr   lcb       ucb     \n",
       "exposure 1 (-)      NA         NA        NA       NA\n",
       "exposure 2 (+) 1.73913   0.639123 0.4969465 6.086318"
      ]
     },
     "metadata": {},
     "output_type": "display_data"
    }
   ],
   "source": [
    "# age 8 years\n",
    "oddsratio(datarr[, , 1])"
   ]
  },
  {
   "cell_type": "code",
   "execution_count": 7,
   "id": "1c9e8b09-33cf-4513-a2b7-eec0733f8b0d",
   "metadata": {},
   "outputs": [
    {
     "data": {
      "text/html": [
       "<table class=\"dataframe\">\n",
       "<caption>A matrix: 2 × 4 of type dbl</caption>\n",
       "<thead>\n",
       "\t<tr><th></th><th scope=col>oddsratio</th><th scope=col>stderr</th><th scope=col>lcb</th><th scope=col>ucb</th></tr>\n",
       "</thead>\n",
       "<tbody>\n",
       "\t<tr><th scope=row>exposure 1 (-)</th><td>      NA</td><td>       NA</td><td>      NA</td><td>      NA</td></tr>\n",
       "\t<tr><th scope=row>exposure 2 (+)</th><td>4.457143</td><td>0.6245145</td><td>1.310596</td><td>15.15808</td></tr>\n",
       "</tbody>\n",
       "</table>\n"
      ],
      "text/latex": [
       "A matrix: 2 × 4 of type dbl\n",
       "\\begin{tabular}{r|llll}\n",
       "  & oddsratio & stderr & lcb & ucb\\\\\n",
       "\\hline\n",
       "\texposure 1 (-) &       NA &        NA &       NA &       NA\\\\\n",
       "\texposure 2 (+) & 4.457143 & 0.6245145 & 1.310596 & 15.15808\\\\\n",
       "\\end{tabular}\n"
      ],
      "text/markdown": [
       "\n",
       "A matrix: 2 × 4 of type dbl\n",
       "\n",
       "| <!--/--> | oddsratio | stderr | lcb | ucb |\n",
       "|---|---|---|---|---|\n",
       "| exposure 1 (-) |       NA |        NA |       NA |       NA |\n",
       "| exposure 2 (+) | 4.457143 | 0.6245145 | 1.310596 | 15.15808 |\n",
       "\n"
      ],
      "text/plain": [
       "               oddsratio stderr    lcb      ucb     \n",
       "exposure 1 (-)       NA         NA       NA       NA\n",
       "exposure 2 (+) 4.457143  0.6245145 1.310596 15.15808"
      ]
     },
     "metadata": {},
     "output_type": "display_data"
    }
   ],
   "source": [
    "# age 10 years\n",
    "oddsratio(datarr[, , 3])"
   ]
  },
  {
   "cell_type": "code",
   "execution_count": 8,
   "id": "7918a0c8-c236-4e04-a8d1-b86df8030cab",
   "metadata": {},
   "outputs": [
    {
     "data": {
      "text/html": [
       "<table class=\"dataframe\">\n",
       "<caption>A matrix: 2 × 4 of type dbl</caption>\n",
       "<thead>\n",
       "\t<tr><th></th><th scope=col>oddsratio</th><th scope=col>stderr</th><th scope=col>lcb</th><th scope=col>ucb</th></tr>\n",
       "</thead>\n",
       "<tbody>\n",
       "\t<tr><th scope=row>exposure 1 (-)</th><td>   NA</td><td>       NA</td><td>      NA</td><td>      NA</td></tr>\n",
       "\t<tr><th scope=row>exposure 2 (+)</th><td>3.712</td><td>0.5805022</td><td>1.189826</td><td>11.58063</td></tr>\n",
       "</tbody>\n",
       "</table>\n"
      ],
      "text/latex": [
       "A matrix: 2 × 4 of type dbl\n",
       "\\begin{tabular}{r|llll}\n",
       "  & oddsratio & stderr & lcb & ucb\\\\\n",
       "\\hline\n",
       "\texposure 1 (-) &    NA &        NA &       NA &       NA\\\\\n",
       "\texposure 2 (+) & 3.712 & 0.5805022 & 1.189826 & 11.58063\\\\\n",
       "\\end{tabular}\n"
      ],
      "text/markdown": [
       "\n",
       "A matrix: 2 × 4 of type dbl\n",
       "\n",
       "| <!--/--> | oddsratio | stderr | lcb | ucb |\n",
       "|---|---|---|---|---|\n",
       "| exposure 1 (-) |    NA |        NA |       NA |       NA |\n",
       "| exposure 2 (+) | 3.712 | 0.5805022 | 1.189826 | 11.58063 |\n",
       "\n"
      ],
      "text/plain": [
       "               oddsratio stderr    lcb      ucb     \n",
       "exposure 1 (-)    NA            NA       NA       NA\n",
       "exposure 2 (+) 3.712     0.5805022 1.189826 11.58063"
      ]
     },
     "metadata": {},
     "output_type": "display_data"
    }
   ],
   "source": [
    "# age 11-12 years\n",
    "oddsratio(datarr[, , 4])"
   ]
  },
  {
   "cell_type": "markdown",
   "id": "fad5961d-ef76-4243-8c09-4cbd3e7d52f6",
   "metadata": {},
   "source": [
    "## Crude odds ratio"
   ]
  },
  {
   "cell_type": "code",
   "execution_count": 9,
   "id": "e18674a9-b208-400e-a5b4-e2ab0aa4c969",
   "metadata": {},
   "outputs": [
    {
     "data": {
      "text/html": [
       "<table class=\"dataframe\">\n",
       "<caption>A matrix: 2 × 4 of type dbl</caption>\n",
       "<thead>\n",
       "\t<tr><th></th><th scope=col>oddsratio</th><th scope=col>stderr</th><th scope=col>lcb</th><th scope=col>ucb</th></tr>\n",
       "</thead>\n",
       "<tbody>\n",
       "\t<tr><th scope=row>exposure 1 (-)</th><td>      NA</td><td>       NA</td><td>      NA</td><td>      NA</td></tr>\n",
       "\t<tr><th scope=row>exposure 2 (+)</th><td>3.886316</td><td>0.3226422</td><td>2.064926</td><td>7.314281</td></tr>\n",
       "</tbody>\n",
       "</table>\n"
      ],
      "text/latex": [
       "A matrix: 2 × 4 of type dbl\n",
       "\\begin{tabular}{r|llll}\n",
       "  & oddsratio & stderr & lcb & ucb\\\\\n",
       "\\hline\n",
       "\texposure 1 (-) &       NA &        NA &       NA &       NA\\\\\n",
       "\texposure 2 (+) & 3.886316 & 0.3226422 & 2.064926 & 7.314281\\\\\n",
       "\\end{tabular}\n"
      ],
      "text/markdown": [
       "\n",
       "A matrix: 2 × 4 of type dbl\n",
       "\n",
       "| <!--/--> | oddsratio | stderr | lcb | ucb |\n",
       "|---|---|---|---|---|\n",
       "| exposure 1 (-) |       NA |        NA |       NA |       NA |\n",
       "| exposure 2 (+) | 3.886316 | 0.3226422 | 2.064926 | 7.314281 |\n",
       "\n"
      ],
      "text/plain": [
       "               oddsratio stderr    lcb      ucb     \n",
       "exposure 1 (-)       NA         NA       NA       NA\n",
       "exposure 2 (+) 3.886316  0.3226422 2.064926 7.314281"
      ]
     },
     "metadata": {},
     "output_type": "display_data"
    }
   ],
   "source": [
    "oddsratio_crude(datarr)"
   ]
  },
  {
   "cell_type": "markdown",
   "id": "07a7c021-7839-44ea-8c82-551125a7c7c8",
   "metadata": {},
   "source": [
    "## Tarone's test for homogeneity"
   ]
  },
  {
   "cell_type": "code",
   "execution_count": 10,
   "id": "ec707c57-d28e-4e30-89bb-b0686a39dfa6",
   "metadata": {},
   "outputs": [
    {
     "data": {
      "text/plain": [
       "\n",
       "\tBreslow-Day Test on Homogeneity of Odds Ratios (with Tarone\n",
       "\tcorrection)\n",
       "\n",
       "data:  datarr\n",
       "X-squared = 3.9603, df = 3, p-value = 0.2658\n"
      ]
     },
     "metadata": {},
     "output_type": "display_data"
    }
   ],
   "source": [
    "BreslowDayTest(datarr, correct = TRUE)"
   ]
  },
  {
   "cell_type": "markdown",
   "id": "ed9fe35a-569c-45af-bd5a-17dec7c236e4",
   "metadata": {},
   "source": [
    "## Mantel-Haenszel odds ratio and chi-squared test"
   ]
  },
  {
   "cell_type": "code",
   "execution_count": 11,
   "id": "b2134e7a-2b00-44bf-b17c-175ec366b1d6",
   "metadata": {},
   "outputs": [
    {
     "data": {
      "text/plain": [
       "\n",
       "\tMantel-Haenszel chi-squared test with continuity correction\n",
       "\n",
       "data:  datarr\n",
       "Mantel-Haenszel X-squared = 16.528, df = 1, p-value = 4.794e-05\n",
       "alternative hypothesis: true common odds ratio is not equal to 1\n",
       "95 percent confidence interval:\n",
       " 2.067622 7.853659\n",
       "sample estimates:\n",
       "common odds ratio \n",
       "         4.029689 \n"
      ]
     },
     "metadata": {},
     "output_type": "display_data"
    }
   ],
   "source": [
    "mantelhaen.test(datarr)"
   ]
  }
 ],
 "metadata": {
  "kernelspec": {
   "display_name": "R 4.1.2",
   "language": "R",
   "name": "ir41"
  },
  "language_info": {
   "codemirror_mode": "r",
   "file_extension": ".r",
   "mimetype": "text/x-r-source",
   "name": "R",
   "pygments_lexer": "r",
   "version": "4.1.2"
  }
 },
 "nbformat": 4,
 "nbformat_minor": 5
}
